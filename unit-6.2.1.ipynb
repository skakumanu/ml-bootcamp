{
 "cells": [
  {
   "cell_type": "code",
   "execution_count": 32,
   "id": "d529a86a",
   "metadata": {},
   "outputs": [],
   "source": [
    "import pandas as pd\n",
    "import numpy as np\n",
    "import matplotlib.pyplot as plt\n",
    "import seaborn as sns\n",
    "import zipfile as z"
   ]
  },
  {
   "cell_type": "code",
   "execution_count": 33,
   "id": "15ad82e4",
   "metadata": {},
   "outputs": [],
   "source": [
    "cols = ['loan_amnt', 'int_rate', 'installment']\n",
    "data = pd.read_csv('dataset/accepted_2007_to_2018Q4.csv.gz', nrows = 30000, usecols = cols )"
   ]
  },
  {
   "cell_type": "code",
   "execution_count": 34,
   "id": "a3ff1a01",
   "metadata": {},
   "outputs": [
    {
     "data": {
      "text/plain": [
       "(30000, 3)"
      ]
     },
     "execution_count": 34,
     "metadata": {},
     "output_type": "execute_result"
    }
   ],
   "source": [
    "data.shape"
   ]
  },
  {
   "cell_type": "code",
   "execution_count": 35,
   "id": "b1378dac",
   "metadata": {},
   "outputs": [
    {
     "data": {
      "text/html": [
       "<div>\n",
       "<style scoped>\n",
       "    .dataframe tbody tr th:only-of-type {\n",
       "        vertical-align: middle;\n",
       "    }\n",
       "\n",
       "    .dataframe tbody tr th {\n",
       "        vertical-align: top;\n",
       "    }\n",
       "\n",
       "    .dataframe thead th {\n",
       "        text-align: right;\n",
       "    }\n",
       "</style>\n",
       "<table border=\"1\" class=\"dataframe\">\n",
       "  <thead>\n",
       "    <tr style=\"text-align: right;\">\n",
       "      <th></th>\n",
       "      <th>loan_amnt</th>\n",
       "      <th>int_rate</th>\n",
       "      <th>installment</th>\n",
       "    </tr>\n",
       "  </thead>\n",
       "  <tbody>\n",
       "    <tr>\n",
       "      <th>count</th>\n",
       "      <td>30000.000000</td>\n",
       "      <td>30000.000000</td>\n",
       "      <td>30000.000000</td>\n",
       "    </tr>\n",
       "    <tr>\n",
       "      <th>mean</th>\n",
       "      <td>15000.651667</td>\n",
       "      <td>12.242581</td>\n",
       "      <td>434.344285</td>\n",
       "    </tr>\n",
       "    <tr>\n",
       "      <th>std</th>\n",
       "      <td>8709.706176</td>\n",
       "      <td>4.209334</td>\n",
       "      <td>248.655252</td>\n",
       "    </tr>\n",
       "    <tr>\n",
       "      <th>min</th>\n",
       "      <td>1000.000000</td>\n",
       "      <td>5.320000</td>\n",
       "      <td>30.540000</td>\n",
       "    </tr>\n",
       "    <tr>\n",
       "      <th>25%</th>\n",
       "      <td>8000.000000</td>\n",
       "      <td>9.170000</td>\n",
       "      <td>255.030000</td>\n",
       "    </tr>\n",
       "    <tr>\n",
       "      <th>50%</th>\n",
       "      <td>13950.000000</td>\n",
       "      <td>11.990000</td>\n",
       "      <td>378.150000</td>\n",
       "    </tr>\n",
       "    <tr>\n",
       "      <th>75%</th>\n",
       "      <td>20000.000000</td>\n",
       "      <td>14.480000</td>\n",
       "      <td>574.727500</td>\n",
       "    </tr>\n",
       "    <tr>\n",
       "      <th>max</th>\n",
       "      <td>35000.000000</td>\n",
       "      <td>28.990000</td>\n",
       "      <td>1354.660000</td>\n",
       "    </tr>\n",
       "  </tbody>\n",
       "</table>\n",
       "</div>"
      ],
      "text/plain": [
       "          loan_amnt      int_rate   installment\n",
       "count  30000.000000  30000.000000  30000.000000\n",
       "mean   15000.651667     12.242581    434.344285\n",
       "std     8709.706176      4.209334    248.655252\n",
       "min     1000.000000      5.320000     30.540000\n",
       "25%     8000.000000      9.170000    255.030000\n",
       "50%    13950.000000     11.990000    378.150000\n",
       "75%    20000.000000     14.480000    574.727500\n",
       "max    35000.000000     28.990000   1354.660000"
      ]
     },
     "execution_count": 35,
     "metadata": {},
     "output_type": "execute_result"
    }
   ],
   "source": [
    "data.describe()"
   ]
  },
  {
   "cell_type": "code",
   "execution_count": 36,
   "id": "181a1e3e",
   "metadata": {},
   "outputs": [],
   "source": [
    "#!python -m pip install --upgrade pip"
   ]
  },
  {
   "cell_type": "code",
   "execution_count": 37,
   "id": "b931a8c8",
   "metadata": {},
   "outputs": [],
   "source": [
    "#!pip install sklearn"
   ]
  },
  {
   "cell_type": "code",
   "execution_count": 38,
   "id": "6311bbe9",
   "metadata": {},
   "outputs": [],
   "source": [
    "from sklearn.preprocessing import StandardScaler\n",
    "scaler = StandardScaler()\n",
    "data_scaled = scaler.fit_transform(data)"
   ]
  },
  {
   "cell_type": "code",
   "execution_count": 39,
   "id": "136c7d7c",
   "metadata": {},
   "outputs": [
    {
     "name": "stdout",
     "output_type": "stream",
     "text": [
      "[ 1.23160741e-17  3.27323354e-16 -5.11590770e-17]\n",
      "[1. 1. 1.]\n"
     ]
    }
   ],
   "source": [
    "print(data_scaled.mean(axis=0))\n",
    "print(data_scaled.std(axis=0))"
   ]
  },
  {
   "cell_type": "code",
   "execution_count": 40,
   "id": "07f5eff8",
   "metadata": {},
   "outputs": [
    {
     "name": "stdout",
     "output_type": "stream",
     "text": [
      "Min values (Loan Amount, Int rate and Installement):  [-1.60750371 -1.64460636 -1.62397944]\n",
      "Max values (Loan Amount, Int rate and Installement):  [2.29625217 3.97870534 3.70123312]\n"
     ]
    }
   ],
   "source": [
    "print('Min values (Loan Amount, Int rate and Installement): ', data_scaled.min(axis=0))\n",
    "print('Max values (Loan Amount, Int rate and Installement): ', data_scaled.max(axis=0))"
   ]
  },
  {
   "cell_type": "code",
   "execution_count": 41,
   "id": "1a15ad45",
   "metadata": {},
   "outputs": [],
   "source": [
    "from sklearn.preprocessing import MinMaxScaler\n",
    "scaler = MinMaxScaler() \n",
    "data_scaled = scaler.fit_transform(data)"
   ]
  },
  {
   "cell_type": "code",
   "execution_count": 42,
   "id": "7c24385b",
   "metadata": {},
   "outputs": [
    {
     "name": "stdout",
     "output_type": "stream",
     "text": [
      "means (Loan Amount, Int rate and Installment):  [0.41178387 0.29246224 0.30496049]\n",
      "std (Loan Amount, Int rate and Installment):  [0.25616356 0.17783115 0.18778593]\n"
     ]
    }
   ],
   "source": [
    "print('means (Loan Amount, Int rate and Installment): ', data_scaled.mean(axis=0))\n",
    "print('std (Loan Amount, Int rate and Installment): ', data_scaled.std(axis=0))"
   ]
  },
  {
   "cell_type": "code",
   "execution_count": 43,
   "id": "41d6fa39",
   "metadata": {},
   "outputs": [
    {
     "name": "stdout",
     "output_type": "stream",
     "text": [
      "Min (Loan Amount, Int rate and Installment):  [0. 0. 0.]\n",
      "Max (Loan Amount, Int rate and Installment):  [1. 1. 1.]\n"
     ]
    }
   ],
   "source": [
    "print('Min (Loan Amount, Int rate and Installment): ', data_scaled.min(axis=0))\n",
    "print('Max (Loan Amount, Int rate and Installment): ', data_scaled.max(axis=0))"
   ]
  },
  {
   "cell_type": "code",
   "execution_count": 44,
   "id": "be54ea95",
   "metadata": {},
   "outputs": [],
   "source": [
    "from sklearn.preprocessing import RobustScaler\n",
    "scaler = RobustScaler() \n",
    "data_scaled = scaler.fit_transform(data)"
   ]
  },
  {
   "cell_type": "code",
   "execution_count": 45,
   "id": "02d4c6c9",
   "metadata": {},
   "outputs": [
    {
     "name": "stdout",
     "output_type": "stream",
     "text": [
      "means (Loan Amount, Int rate and Installment):  [0.08755431 0.04756711 0.1757733 ]\n",
      "std (Loan Amount, Int rate and Installment):  [0.72579675 0.79270497 0.77776995]\n"
     ]
    }
   ],
   "source": [
    "print('means (Loan Amount, Int rate and Installment): ', data_scaled.mean(axis=0))\n",
    "print('std (Loan Amount, Int rate and Installment): ', data_scaled.std(axis=0))"
   ]
  },
  {
   "cell_type": "code",
   "execution_count": 46,
   "id": "2560995a",
   "metadata": {},
   "outputs": [
    {
     "name": "stdout",
     "output_type": "stream",
     "text": [
      "Min (Loan Amount, Int rate and Installment):  [-1.07916667 -1.25612053 -1.0873091 ]\n",
      "Max (Loan Amount, Int rate and Installment):  [1.75416667 3.20150659 3.05448119]\n"
     ]
    }
   ],
   "source": [
    "print('Min (Loan Amount, Int rate and Installment): ', data_scaled.min(axis=0))\n",
    "print('Max (Loan Amount, Int rate and Installment): ', data_scaled.max(axis=0))"
   ]
  },
  {
   "cell_type": "code",
   "execution_count": null,
   "id": "821a3d8c",
   "metadata": {},
   "outputs": [],
   "source": []
  }
 ],
 "metadata": {
  "kernelspec": {
   "display_name": "Python 3",
   "language": "python",
   "name": "python3"
  },
  "language_info": {
   "codemirror_mode": {
    "name": "ipython",
    "version": 3
   },
   "file_extension": ".py",
   "mimetype": "text/x-python",
   "name": "python",
   "nbconvert_exporter": "python",
   "pygments_lexer": "ipython3",
   "version": "3.8.8"
  }
 },
 "nbformat": 4,
 "nbformat_minor": 5
}
