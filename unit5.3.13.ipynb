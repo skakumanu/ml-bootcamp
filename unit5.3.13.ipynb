{
 "cells": [
  {
   "cell_type": "markdown",
   "metadata": {
    "gradient": {
     "editing": false
    }
   },
   "source": [
    "# Mini-Project: Data Wrangling and Transformation with Pandas\n",
    "\n",
    "Working with tabular data is a necessity for anyone with enterprises having a majority of their data in relational databases and flat files. This mini-project is adopted from the excellent tutorial on pandas by Brandon Rhodes which you have watched earlier in the Data Wrangling Unit. In this mini-project, we will be looking at some interesting data based on movie data from the IMDB.\n",
    "\n",
    "This assignment should help you reinforce the concepts you learnt in the curriculum for Data Wrangling and sharpen your skills in using Pandas. Good Luck!"
   ]
  },
  {
   "cell_type": "markdown",
   "metadata": {
    "gradient": {
     "editing": false
    }
   },
   "source": [
    "### Please make sure you have one of the more recent versions of Pandas"
   ]
  },
  {
   "cell_type": "code",
   "execution_count": 279,
   "metadata": {},
   "outputs": [],
   "source": [
    "#!pip install seaborn"
   ]
  },
  {
   "cell_type": "code",
   "execution_count": 280,
   "metadata": {
    "gradient": {}
   },
   "outputs": [],
   "source": [
    "import pandas as pd\n",
    "import matplotlib.pyplot as plt\n",
    "import seaborn as sns\n",
    "\n",
    "sns.set()\n",
    "%matplotlib inline"
   ]
  },
  {
   "cell_type": "code",
   "execution_count": 281,
   "metadata": {
    "gradient": {}
   },
   "outputs": [
    {
     "data": {
      "text/plain": [
       "'1.2.4'"
      ]
     },
     "execution_count": 281,
     "metadata": {},
     "output_type": "execute_result"
    }
   ],
   "source": [
    "pd.__version__"
   ]
  },
  {
   "cell_type": "markdown",
   "metadata": {
    "gradient": {
     "editing": false
    }
   },
   "source": [
    "## Taking a look at the Movies dataset\n",
    "This data shows the movies based on their title and the year of release"
   ]
  },
  {
   "cell_type": "code",
   "execution_count": 282,
   "metadata": {
    "gradient": {}
   },
   "outputs": [
    {
     "name": "stdout",
     "output_type": "stream",
     "text": [
      "<class 'pandas.core.frame.DataFrame'>\n",
      "RangeIndex: 244914 entries, 0 to 244913\n",
      "Data columns (total 2 columns):\n",
      " #   Column  Non-Null Count   Dtype \n",
      "---  ------  --------------   ----- \n",
      " 0   title   244914 non-null  object\n",
      " 1   year    244914 non-null  int64 \n",
      "dtypes: int64(1), object(1)\n",
      "memory usage: 3.7+ MB\n"
     ]
    }
   ],
   "source": [
    "movies = pd.read_csv('dataset/titles.csv')\n",
    "movies.info()"
   ]
  },
  {
   "cell_type": "code",
   "execution_count": 283,
   "metadata": {
    "gradient": {}
   },
   "outputs": [
    {
     "data": {
      "text/html": [
       "<div>\n",
       "<style scoped>\n",
       "    .dataframe tbody tr th:only-of-type {\n",
       "        vertical-align: middle;\n",
       "    }\n",
       "\n",
       "    .dataframe tbody tr th {\n",
       "        vertical-align: top;\n",
       "    }\n",
       "\n",
       "    .dataframe thead th {\n",
       "        text-align: right;\n",
       "    }\n",
       "</style>\n",
       "<table border=\"1\" class=\"dataframe\">\n",
       "  <thead>\n",
       "    <tr style=\"text-align: right;\">\n",
       "      <th></th>\n",
       "      <th>title</th>\n",
       "      <th>year</th>\n",
       "    </tr>\n",
       "  </thead>\n",
       "  <tbody>\n",
       "    <tr>\n",
       "      <th>0</th>\n",
       "      <td>The Ticket to the Life</td>\n",
       "      <td>2009</td>\n",
       "    </tr>\n",
       "    <tr>\n",
       "      <th>1</th>\n",
       "      <td>Parallel Worlds: A New Rock Music Experience</td>\n",
       "      <td>2016</td>\n",
       "    </tr>\n",
       "    <tr>\n",
       "      <th>2</th>\n",
       "      <td>Morita - La hija de Jesus</td>\n",
       "      <td>2008</td>\n",
       "    </tr>\n",
       "    <tr>\n",
       "      <th>3</th>\n",
       "      <td>Gun</td>\n",
       "      <td>2017</td>\n",
       "    </tr>\n",
       "    <tr>\n",
       "      <th>4</th>\n",
       "      <td>Love or Nothing at All</td>\n",
       "      <td>2014</td>\n",
       "    </tr>\n",
       "  </tbody>\n",
       "</table>\n",
       "</div>"
      ],
      "text/plain": [
       "                                          title  year\n",
       "0                        The Ticket to the Life  2009\n",
       "1  Parallel Worlds: A New Rock Music Experience  2016\n",
       "2                     Morita - La hija de Jesus  2008\n",
       "3                                           Gun  2017\n",
       "4                        Love or Nothing at All  2014"
      ]
     },
     "execution_count": 283,
     "metadata": {},
     "output_type": "execute_result"
    }
   ],
   "source": [
    "movies.head()"
   ]
  },
  {
   "cell_type": "markdown",
   "metadata": {
    "gradient": {
     "editing": false
    }
   },
   "source": [
    "## Taking a look at the Cast dataset\n",
    "\n",
    "This data shows the cast (actors, actresses, supporting roles) for each movie\n",
    "\n",
    "- The attribute `n` basically tells the importance of the cast role, lower the number, more important the role.\n",
    "- Supporting cast usually don't have any value for `n`"
   ]
  },
  {
   "cell_type": "code",
   "execution_count": 388,
   "metadata": {
    "gradient": {}
   },
   "outputs": [
    {
     "name": "stdout",
     "output_type": "stream",
     "text": [
      "<class 'pandas.core.frame.DataFrame'>\n",
      "RangeIndex: 3786176 entries, 0 to 3786175\n",
      "Data columns (total 6 columns):\n",
      " #   Column     Dtype  \n",
      "---  ------     -----  \n",
      " 0   title      object \n",
      " 1   year       int64  \n",
      " 2   name       object \n",
      " 3   type       object \n",
      " 4   character  object \n",
      " 5   n          float64\n",
      "dtypes: float64(1), int64(1), object(4)\n",
      "memory usage: 173.3+ MB\n"
     ]
    }
   ],
   "source": [
    "cast = pd.read_csv('dataset/cast.csv.zip')\n",
    "cast.info()"
   ]
  },
  {
   "cell_type": "code",
   "execution_count": 285,
   "metadata": {
    "gradient": {}
   },
   "outputs": [
    {
     "data": {
      "text/html": [
       "<div>\n",
       "<style scoped>\n",
       "    .dataframe tbody tr th:only-of-type {\n",
       "        vertical-align: middle;\n",
       "    }\n",
       "\n",
       "    .dataframe tbody tr th {\n",
       "        vertical-align: top;\n",
       "    }\n",
       "\n",
       "    .dataframe thead th {\n",
       "        text-align: right;\n",
       "    }\n",
       "</style>\n",
       "<table border=\"1\" class=\"dataframe\">\n",
       "  <thead>\n",
       "    <tr style=\"text-align: right;\">\n",
       "      <th></th>\n",
       "      <th>title</th>\n",
       "      <th>year</th>\n",
       "      <th>name</th>\n",
       "      <th>type</th>\n",
       "      <th>character</th>\n",
       "      <th>n</th>\n",
       "    </tr>\n",
       "  </thead>\n",
       "  <tbody>\n",
       "    <tr>\n",
       "      <th>0</th>\n",
       "      <td>Closet Monster</td>\n",
       "      <td>2015</td>\n",
       "      <td>Buffy #1</td>\n",
       "      <td>actor</td>\n",
       "      <td>Buffy 4</td>\n",
       "      <td>31.0</td>\n",
       "    </tr>\n",
       "    <tr>\n",
       "      <th>1</th>\n",
       "      <td>Suuri illusioni</td>\n",
       "      <td>1985</td>\n",
       "      <td>Homo $</td>\n",
       "      <td>actor</td>\n",
       "      <td>Guests</td>\n",
       "      <td>22.0</td>\n",
       "    </tr>\n",
       "    <tr>\n",
       "      <th>2</th>\n",
       "      <td>Battle of the Sexes</td>\n",
       "      <td>2017</td>\n",
       "      <td>$hutter</td>\n",
       "      <td>actor</td>\n",
       "      <td>Bobby Riggs Fan</td>\n",
       "      <td>10.0</td>\n",
       "    </tr>\n",
       "    <tr>\n",
       "      <th>3</th>\n",
       "      <td>Secret in Their Eyes</td>\n",
       "      <td>2015</td>\n",
       "      <td>$hutter</td>\n",
       "      <td>actor</td>\n",
       "      <td>2002 Dodger Fan</td>\n",
       "      <td>NaN</td>\n",
       "    </tr>\n",
       "    <tr>\n",
       "      <th>4</th>\n",
       "      <td>Steve Jobs</td>\n",
       "      <td>2015</td>\n",
       "      <td>$hutter</td>\n",
       "      <td>actor</td>\n",
       "      <td>1988 Opera House Patron</td>\n",
       "      <td>NaN</td>\n",
       "    </tr>\n",
       "    <tr>\n",
       "      <th>5</th>\n",
       "      <td>Straight Outta Compton</td>\n",
       "      <td>2015</td>\n",
       "      <td>$hutter</td>\n",
       "      <td>actor</td>\n",
       "      <td>Club Patron</td>\n",
       "      <td>NaN</td>\n",
       "    </tr>\n",
       "    <tr>\n",
       "      <th>6</th>\n",
       "      <td>Straight Outta Compton</td>\n",
       "      <td>2015</td>\n",
       "      <td>$hutter</td>\n",
       "      <td>actor</td>\n",
       "      <td>Dopeman</td>\n",
       "      <td>NaN</td>\n",
       "    </tr>\n",
       "    <tr>\n",
       "      <th>7</th>\n",
       "      <td>For Thy Love 2</td>\n",
       "      <td>2009</td>\n",
       "      <td>Bee Moe $lim</td>\n",
       "      <td>actor</td>\n",
       "      <td>Thug 1</td>\n",
       "      <td>NaN</td>\n",
       "    </tr>\n",
       "    <tr>\n",
       "      <th>8</th>\n",
       "      <td>Lapis, Ballpen at Diploma, a True to Life Journey</td>\n",
       "      <td>2014</td>\n",
       "      <td>Jori ' Danilo' Jurado Jr.</td>\n",
       "      <td>actor</td>\n",
       "      <td>Jaime (young)</td>\n",
       "      <td>9.0</td>\n",
       "    </tr>\n",
       "    <tr>\n",
       "      <th>9</th>\n",
       "      <td>Desire (III)</td>\n",
       "      <td>2014</td>\n",
       "      <td>Syaiful 'Ariffin</td>\n",
       "      <td>actor</td>\n",
       "      <td>Actor Playing Eteocles from 'Antigone'</td>\n",
       "      <td>NaN</td>\n",
       "    </tr>\n",
       "  </tbody>\n",
       "</table>\n",
       "</div>"
      ],
      "text/plain": [
       "                                               title  year  \\\n",
       "0                                     Closet Monster  2015   \n",
       "1                                    Suuri illusioni  1985   \n",
       "2                                Battle of the Sexes  2017   \n",
       "3                               Secret in Their Eyes  2015   \n",
       "4                                         Steve Jobs  2015   \n",
       "5                             Straight Outta Compton  2015   \n",
       "6                             Straight Outta Compton  2015   \n",
       "7                                     For Thy Love 2  2009   \n",
       "8  Lapis, Ballpen at Diploma, a True to Life Journey  2014   \n",
       "9                                       Desire (III)  2014   \n",
       "\n",
       "                        name   type                               character  \\\n",
       "0                   Buffy #1  actor                                 Buffy 4   \n",
       "1                     Homo $  actor                                  Guests   \n",
       "2                    $hutter  actor                         Bobby Riggs Fan   \n",
       "3                    $hutter  actor                         2002 Dodger Fan   \n",
       "4                    $hutter  actor                 1988 Opera House Patron   \n",
       "5                    $hutter  actor                             Club Patron   \n",
       "6                    $hutter  actor                                 Dopeman   \n",
       "7               Bee Moe $lim  actor                                  Thug 1   \n",
       "8  Jori ' Danilo' Jurado Jr.  actor                           Jaime (young)   \n",
       "9           Syaiful 'Ariffin  actor  Actor Playing Eteocles from 'Antigone'   \n",
       "\n",
       "      n  \n",
       "0  31.0  \n",
       "1  22.0  \n",
       "2  10.0  \n",
       "3   NaN  \n",
       "4   NaN  \n",
       "5   NaN  \n",
       "6   NaN  \n",
       "7   NaN  \n",
       "8   9.0  \n",
       "9   NaN  "
      ]
     },
     "execution_count": 285,
     "metadata": {},
     "output_type": "execute_result"
    }
   ],
   "source": [
    "cast.head(10)"
   ]
  },
  {
   "cell_type": "markdown",
   "metadata": {},
   "source": [
    "## Taking a look at the Release dataset\n",
    "\n",
    "This data shows details of when each movie was release in each country with the release date"
   ]
  },
  {
   "cell_type": "code",
   "execution_count": 286,
   "metadata": {
    "gradient": {}
   },
   "outputs": [
    {
     "name": "stdout",
     "output_type": "stream",
     "text": [
      "<class 'pandas.core.frame.DataFrame'>\n",
      "RangeIndex: 479488 entries, 0 to 479487\n",
      "Data columns (total 4 columns):\n",
      " #   Column   Non-Null Count   Dtype         \n",
      "---  ------   --------------   -----         \n",
      " 0   title    479488 non-null  object        \n",
      " 1   year     479488 non-null  int64         \n",
      " 2   country  479488 non-null  object        \n",
      " 3   date     479488 non-null  datetime64[ns]\n",
      "dtypes: datetime64[ns](1), int64(1), object(2)\n",
      "memory usage: 14.6+ MB\n"
     ]
    }
   ],
   "source": [
    "release_dates = pd.read_csv('dataset/release_dates.csv', parse_dates=['date'], infer_datetime_format=True)\n",
    "release_dates.info()"
   ]
  },
  {
   "cell_type": "code",
   "execution_count": 287,
   "metadata": {
    "gradient": {}
   },
   "outputs": [
    {
     "data": {
      "text/html": [
       "<div>\n",
       "<style scoped>\n",
       "    .dataframe tbody tr th:only-of-type {\n",
       "        vertical-align: middle;\n",
       "    }\n",
       "\n",
       "    .dataframe tbody tr th {\n",
       "        vertical-align: top;\n",
       "    }\n",
       "\n",
       "    .dataframe thead th {\n",
       "        text-align: right;\n",
       "    }\n",
       "</style>\n",
       "<table border=\"1\" class=\"dataframe\">\n",
       "  <thead>\n",
       "    <tr style=\"text-align: right;\">\n",
       "      <th></th>\n",
       "      <th>title</th>\n",
       "      <th>year</th>\n",
       "      <th>country</th>\n",
       "      <th>date</th>\n",
       "    </tr>\n",
       "  </thead>\n",
       "  <tbody>\n",
       "    <tr>\n",
       "      <th>0</th>\n",
       "      <td>#73, Shaanthi Nivaasa</td>\n",
       "      <td>2007</td>\n",
       "      <td>India</td>\n",
       "      <td>2007-06-15</td>\n",
       "    </tr>\n",
       "    <tr>\n",
       "      <th>1</th>\n",
       "      <td>#BKKY</td>\n",
       "      <td>2016</td>\n",
       "      <td>Cambodia</td>\n",
       "      <td>2017-10-12</td>\n",
       "    </tr>\n",
       "    <tr>\n",
       "      <th>2</th>\n",
       "      <td>#Beings</td>\n",
       "      <td>2015</td>\n",
       "      <td>Romania</td>\n",
       "      <td>2015-01-29</td>\n",
       "    </tr>\n",
       "    <tr>\n",
       "      <th>3</th>\n",
       "      <td>#Captured</td>\n",
       "      <td>2017</td>\n",
       "      <td>USA</td>\n",
       "      <td>2017-09-05</td>\n",
       "    </tr>\n",
       "    <tr>\n",
       "      <th>4</th>\n",
       "      <td>#Ewankosau saranghaeyo</td>\n",
       "      <td>2015</td>\n",
       "      <td>Philippines</td>\n",
       "      <td>2015-01-21</td>\n",
       "    </tr>\n",
       "  </tbody>\n",
       "</table>\n",
       "</div>"
      ],
      "text/plain": [
       "                    title  year      country       date\n",
       "0   #73, Shaanthi Nivaasa  2007        India 2007-06-15\n",
       "1                   #BKKY  2016     Cambodia 2017-10-12\n",
       "2                 #Beings  2015      Romania 2015-01-29\n",
       "3               #Captured  2017          USA 2017-09-05\n",
       "4  #Ewankosau saranghaeyo  2015  Philippines 2015-01-21"
      ]
     },
     "execution_count": 287,
     "metadata": {},
     "output_type": "execute_result"
    }
   ],
   "source": [
    "release_dates.head()"
   ]
  },
  {
   "cell_type": "markdown",
   "metadata": {},
   "source": [
    "# Section I - Basic Querying, Filtering and Transformations"
   ]
  },
  {
   "cell_type": "markdown",
   "metadata": {},
   "source": [
    "### What is the total number of movies?"
   ]
  },
  {
   "cell_type": "code",
   "execution_count": 288,
   "metadata": {
    "gradient": {}
   },
   "outputs": [
    {
     "data": {
      "text/plain": [
       "244914"
      ]
     },
     "execution_count": 288,
     "metadata": {},
     "output_type": "execute_result"
    }
   ],
   "source": [
    "len(movies)"
   ]
  },
  {
   "cell_type": "markdown",
   "metadata": {},
   "source": [
    "### List all Batman movies ever made"
   ]
  },
  {
   "cell_type": "code",
   "execution_count": 289,
   "metadata": {
    "gradient": {}
   },
   "outputs": [
    {
     "name": "stdout",
     "output_type": "stream",
     "text": [
      "Total Batman Movies: 2\n"
     ]
    },
    {
     "data": {
      "text/html": [
       "<div>\n",
       "<style scoped>\n",
       "    .dataframe tbody tr th:only-of-type {\n",
       "        vertical-align: middle;\n",
       "    }\n",
       "\n",
       "    .dataframe tbody tr th {\n",
       "        vertical-align: top;\n",
       "    }\n",
       "\n",
       "    .dataframe thead th {\n",
       "        text-align: right;\n",
       "    }\n",
       "</style>\n",
       "<table border=\"1\" class=\"dataframe\">\n",
       "  <thead>\n",
       "    <tr style=\"text-align: right;\">\n",
       "      <th></th>\n",
       "      <th>title</th>\n",
       "      <th>year</th>\n",
       "    </tr>\n",
       "  </thead>\n",
       "  <tbody>\n",
       "    <tr>\n",
       "      <th>52734</th>\n",
       "      <td>Batman</td>\n",
       "      <td>1943</td>\n",
       "    </tr>\n",
       "    <tr>\n",
       "      <th>150621</th>\n",
       "      <td>Batman</td>\n",
       "      <td>1989</td>\n",
       "    </tr>\n",
       "  </tbody>\n",
       "</table>\n",
       "</div>"
      ],
      "text/plain": [
       "         title  year\n",
       "52734   Batman  1943\n",
       "150621  Batman  1989"
      ]
     },
     "execution_count": 289,
     "metadata": {},
     "output_type": "execute_result"
    }
   ],
   "source": [
    "batman_df = movies[movies.title == 'Batman']\n",
    "print('Total Batman Movies:', len(batman_df))\n",
    "batman_df"
   ]
  },
  {
   "cell_type": "markdown",
   "metadata": {},
   "source": [
    "### List all Batman movies ever made - the right approach"
   ]
  },
  {
   "cell_type": "code",
   "execution_count": 290,
   "metadata": {
    "gradient": {}
   },
   "outputs": [
    {
     "name": "stdout",
     "output_type": "stream",
     "text": [
      "Total Batman Movies: 35\n"
     ]
    },
    {
     "data": {
      "text/html": [
       "<div>\n",
       "<style scoped>\n",
       "    .dataframe tbody tr th:only-of-type {\n",
       "        vertical-align: middle;\n",
       "    }\n",
       "\n",
       "    .dataframe tbody tr th {\n",
       "        vertical-align: top;\n",
       "    }\n",
       "\n",
       "    .dataframe thead th {\n",
       "        text-align: right;\n",
       "    }\n",
       "</style>\n",
       "<table border=\"1\" class=\"dataframe\">\n",
       "  <thead>\n",
       "    <tr style=\"text-align: right;\">\n",
       "      <th></th>\n",
       "      <th>title</th>\n",
       "      <th>year</th>\n",
       "    </tr>\n",
       "  </thead>\n",
       "  <tbody>\n",
       "    <tr>\n",
       "      <th>16813</th>\n",
       "      <td>Batman: Anarchy</td>\n",
       "      <td>2016</td>\n",
       "    </tr>\n",
       "    <tr>\n",
       "      <th>30236</th>\n",
       "      <td>Batman Forever</td>\n",
       "      <td>1995</td>\n",
       "    </tr>\n",
       "    <tr>\n",
       "      <th>31674</th>\n",
       "      <td>Batman Untold</td>\n",
       "      <td>2010</td>\n",
       "    </tr>\n",
       "    <tr>\n",
       "      <th>31711</th>\n",
       "      <td>Scooby-Doo &amp; Batman: the Brave and the Bold</td>\n",
       "      <td>2018</td>\n",
       "    </tr>\n",
       "    <tr>\n",
       "      <th>41881</th>\n",
       "      <td>Batman the Rise of Red Hood</td>\n",
       "      <td>2018</td>\n",
       "    </tr>\n",
       "    <tr>\n",
       "      <th>43484</th>\n",
       "      <td>Batman: Return of the Caped Crusaders</td>\n",
       "      <td>2016</td>\n",
       "    </tr>\n",
       "    <tr>\n",
       "      <th>46333</th>\n",
       "      <td>Batman &amp; Robin</td>\n",
       "      <td>1997</td>\n",
       "    </tr>\n",
       "    <tr>\n",
       "      <th>51811</th>\n",
       "      <td>Batman Revealed</td>\n",
       "      <td>2012</td>\n",
       "    </tr>\n",
       "    <tr>\n",
       "      <th>52734</th>\n",
       "      <td>Batman</td>\n",
       "      <td>1943</td>\n",
       "    </tr>\n",
       "    <tr>\n",
       "      <th>56029</th>\n",
       "      <td>Batman Beyond: Rising Knight</td>\n",
       "      <td>2014</td>\n",
       "    </tr>\n",
       "  </tbody>\n",
       "</table>\n",
       "</div>"
      ],
      "text/plain": [
       "                                             title  year\n",
       "16813                              Batman: Anarchy  2016\n",
       "30236                               Batman Forever  1995\n",
       "31674                                Batman Untold  2010\n",
       "31711  Scooby-Doo & Batman: the Brave and the Bold  2018\n",
       "41881                  Batman the Rise of Red Hood  2018\n",
       "43484        Batman: Return of the Caped Crusaders  2016\n",
       "46333                               Batman & Robin  1997\n",
       "51811                              Batman Revealed  2012\n",
       "52734                                       Batman  1943\n",
       "56029                 Batman Beyond: Rising Knight  2014"
      ]
     },
     "execution_count": 290,
     "metadata": {},
     "output_type": "execute_result"
    }
   ],
   "source": [
    "batman_df = movies[movies.title.str.contains('Batman', case=False)]\n",
    "print('Total Batman Movies:', len(batman_df))\n",
    "batman_df.head(10)"
   ]
  },
  {
   "cell_type": "markdown",
   "metadata": {},
   "source": [
    "### Display the top 15 Batman movies in the order they were released"
   ]
  },
  {
   "cell_type": "code",
   "execution_count": 291,
   "metadata": {
    "gradient": {}
   },
   "outputs": [
    {
     "data": {
      "text/html": [
       "<div>\n",
       "<style scoped>\n",
       "    .dataframe tbody tr th:only-of-type {\n",
       "        vertical-align: middle;\n",
       "    }\n",
       "\n",
       "    .dataframe tbody tr th {\n",
       "        vertical-align: top;\n",
       "    }\n",
       "\n",
       "    .dataframe thead th {\n",
       "        text-align: right;\n",
       "    }\n",
       "</style>\n",
       "<table border=\"1\" class=\"dataframe\">\n",
       "  <thead>\n",
       "    <tr style=\"text-align: right;\">\n",
       "      <th></th>\n",
       "      <th>title</th>\n",
       "      <th>year</th>\n",
       "    </tr>\n",
       "  </thead>\n",
       "  <tbody>\n",
       "    <tr>\n",
       "      <th>52734</th>\n",
       "      <td>Batman</td>\n",
       "      <td>1943</td>\n",
       "    </tr>\n",
       "    <tr>\n",
       "      <th>100056</th>\n",
       "      <td>Batman and Robin</td>\n",
       "      <td>1949</td>\n",
       "    </tr>\n",
       "    <tr>\n",
       "      <th>161439</th>\n",
       "      <td>Batman Dracula</td>\n",
       "      <td>1964</td>\n",
       "    </tr>\n",
       "    <tr>\n",
       "      <th>84327</th>\n",
       "      <td>Alyas Batman at Robin</td>\n",
       "      <td>1965</td>\n",
       "    </tr>\n",
       "    <tr>\n",
       "      <th>68364</th>\n",
       "      <td>James Batman</td>\n",
       "      <td>1966</td>\n",
       "    </tr>\n",
       "    <tr>\n",
       "      <th>161527</th>\n",
       "      <td>Batman: The Movie</td>\n",
       "      <td>1966</td>\n",
       "    </tr>\n",
       "    <tr>\n",
       "      <th>56159</th>\n",
       "      <td>Batman Fights Dracula</td>\n",
       "      <td>1967</td>\n",
       "    </tr>\n",
       "    <tr>\n",
       "      <th>168504</th>\n",
       "      <td>Fight! Batman, Fight!</td>\n",
       "      <td>1973</td>\n",
       "    </tr>\n",
       "    <tr>\n",
       "      <th>150621</th>\n",
       "      <td>Batman</td>\n",
       "      <td>1989</td>\n",
       "    </tr>\n",
       "    <tr>\n",
       "      <th>156239</th>\n",
       "      <td>Alyas Batman en Robin</td>\n",
       "      <td>1991</td>\n",
       "    </tr>\n",
       "    <tr>\n",
       "      <th>156755</th>\n",
       "      <td>Batman Returns</td>\n",
       "      <td>1992</td>\n",
       "    </tr>\n",
       "    <tr>\n",
       "      <th>63366</th>\n",
       "      <td>Batman: Mask of the Phantasm</td>\n",
       "      <td>1993</td>\n",
       "    </tr>\n",
       "    <tr>\n",
       "      <th>30236</th>\n",
       "      <td>Batman Forever</td>\n",
       "      <td>1995</td>\n",
       "    </tr>\n",
       "    <tr>\n",
       "      <th>46333</th>\n",
       "      <td>Batman &amp; Robin</td>\n",
       "      <td>1997</td>\n",
       "    </tr>\n",
       "    <tr>\n",
       "      <th>208220</th>\n",
       "      <td>Batman Begins</td>\n",
       "      <td>2005</td>\n",
       "    </tr>\n",
       "  </tbody>\n",
       "</table>\n",
       "</div>"
      ],
      "text/plain": [
       "                               title  year\n",
       "52734                         Batman  1943\n",
       "100056              Batman and Robin  1949\n",
       "161439                Batman Dracula  1964\n",
       "84327          Alyas Batman at Robin  1965\n",
       "68364                   James Batman  1966\n",
       "161527             Batman: The Movie  1966\n",
       "56159          Batman Fights Dracula  1967\n",
       "168504         Fight! Batman, Fight!  1973\n",
       "150621                        Batman  1989\n",
       "156239         Alyas Batman en Robin  1991\n",
       "156755                Batman Returns  1992\n",
       "63366   Batman: Mask of the Phantasm  1993\n",
       "30236                 Batman Forever  1995\n",
       "46333                 Batman & Robin  1997\n",
       "208220                 Batman Begins  2005"
      ]
     },
     "execution_count": 291,
     "metadata": {},
     "output_type": "execute_result"
    }
   ],
   "source": [
    "batman_df.sort_values(by=['year'], ascending=True).iloc[:15]"
   ]
  },
  {
   "cell_type": "markdown",
   "metadata": {},
   "source": [
    "### Section I - Q1 : List all the 'Harry Potter' movies from the most recent to the earliest"
   ]
  },
  {
   "cell_type": "code",
   "execution_count": 292,
   "metadata": {
    "gradient": {}
   },
   "outputs": [
    {
     "name": "stdout",
     "output_type": "stream",
     "text": [
      "Total Harry Potter Movies: 8\n"
     ]
    },
    {
     "data": {
      "text/html": [
       "<div>\n",
       "<style scoped>\n",
       "    .dataframe tbody tr th:only-of-type {\n",
       "        vertical-align: middle;\n",
       "    }\n",
       "\n",
       "    .dataframe tbody tr th {\n",
       "        vertical-align: top;\n",
       "    }\n",
       "\n",
       "    .dataframe thead th {\n",
       "        text-align: right;\n",
       "    }\n",
       "</style>\n",
       "<table border=\"1\" class=\"dataframe\">\n",
       "  <thead>\n",
       "    <tr style=\"text-align: right;\">\n",
       "      <th></th>\n",
       "      <th>title</th>\n",
       "      <th>year</th>\n",
       "    </tr>\n",
       "  </thead>\n",
       "  <tbody>\n",
       "    <tr>\n",
       "      <th>50581</th>\n",
       "      <td>Harry Potter and the Order of the Phoenix</td>\n",
       "      <td>2007</td>\n",
       "    </tr>\n",
       "    <tr>\n",
       "      <th>61957</th>\n",
       "      <td>Harry Potter and the Prisoner of Azkaban</td>\n",
       "      <td>2004</td>\n",
       "    </tr>\n",
       "    <tr>\n",
       "      <th>82791</th>\n",
       "      <td>Harry Potter and the Chamber of Secrets</td>\n",
       "      <td>2002</td>\n",
       "    </tr>\n",
       "    <tr>\n",
       "      <th>109213</th>\n",
       "      <td>Harry Potter and the Half-Blood Prince</td>\n",
       "      <td>2009</td>\n",
       "    </tr>\n",
       "    <tr>\n",
       "      <th>143147</th>\n",
       "      <td>Harry Potter and the Deathly Hallows: Part 2</td>\n",
       "      <td>2011</td>\n",
       "    </tr>\n",
       "    <tr>\n",
       "      <th>152831</th>\n",
       "      <td>Harry Potter and the Deathly Hallows: Part 1</td>\n",
       "      <td>2010</td>\n",
       "    </tr>\n",
       "    <tr>\n",
       "      <th>187926</th>\n",
       "      <td>Harry Potter and the Goblet of Fire</td>\n",
       "      <td>2005</td>\n",
       "    </tr>\n",
       "    <tr>\n",
       "      <th>223087</th>\n",
       "      <td>Harry Potter and the Sorcerer's Stone</td>\n",
       "      <td>2001</td>\n",
       "    </tr>\n",
       "  </tbody>\n",
       "</table>\n",
       "</div>"
      ],
      "text/plain": [
       "                                               title  year\n",
       "50581      Harry Potter and the Order of the Phoenix  2007\n",
       "61957       Harry Potter and the Prisoner of Azkaban  2004\n",
       "82791        Harry Potter and the Chamber of Secrets  2002\n",
       "109213        Harry Potter and the Half-Blood Prince  2009\n",
       "143147  Harry Potter and the Deathly Hallows: Part 2  2011\n",
       "152831  Harry Potter and the Deathly Hallows: Part 1  2010\n",
       "187926           Harry Potter and the Goblet of Fire  2005\n",
       "223087         Harry Potter and the Sorcerer's Stone  2001"
      ]
     },
     "execution_count": 292,
     "metadata": {},
     "output_type": "execute_result"
    }
   ],
   "source": [
    "hp_df = movies[movies.title.str.contains('Harry Potter', case=False)]\n",
    "print('Total Harry Potter Movies:', len(hp_df))\n",
    "hp_df"
   ]
  },
  {
   "cell_type": "markdown",
   "metadata": {},
   "source": [
    "### How many movies were made in the year 2017?"
   ]
  },
  {
   "cell_type": "code",
   "execution_count": 293,
   "metadata": {
    "gradient": {}
   },
   "outputs": [
    {
     "data": {
      "text/plain": [
       "11474"
      ]
     },
     "execution_count": 293,
     "metadata": {},
     "output_type": "execute_result"
    }
   ],
   "source": [
    "len(movies[movies.year == 2017])"
   ]
  },
  {
   "cell_type": "markdown",
   "metadata": {},
   "source": [
    "### Section I - Q2 : How many movies were made in the year 2015?"
   ]
  },
  {
   "cell_type": "code",
   "execution_count": 294,
   "metadata": {
    "gradient": {}
   },
   "outputs": [
    {
     "data": {
      "text/plain": [
       "8702"
      ]
     },
     "execution_count": 294,
     "metadata": {},
     "output_type": "execute_result"
    }
   ],
   "source": [
    "len(movies[movies.year == 2015])"
   ]
  },
  {
   "cell_type": "markdown",
   "metadata": {},
   "source": [
    "### Section I - Q3 : How many movies were made from 2000 till 2018?\n",
    "- You can chain multiple conditions using OR (`|`) as well as AND (`&`) depending on the condition"
   ]
  },
  {
   "cell_type": "code",
   "execution_count": 295,
   "metadata": {
    "gradient": {}
   },
   "outputs": [
    {
     "data": {
      "text/plain": [
       "114070"
      ]
     },
     "execution_count": 295,
     "metadata": {},
     "output_type": "execute_result"
    }
   ],
   "source": [
    "len(movies[(movies.year >= 2000) & (movies.year <= 2018)])"
   ]
  },
  {
   "cell_type": "markdown",
   "metadata": {},
   "source": [
    "### Section I - Q4: How many movies are titled \"Hamlet\"?"
   ]
  },
  {
   "cell_type": "code",
   "execution_count": 296,
   "metadata": {
    "gradient": {}
   },
   "outputs": [
    {
     "data": {
      "text/plain": [
       "57"
      ]
     },
     "execution_count": 296,
     "metadata": {},
     "output_type": "execute_result"
    }
   ],
   "source": [
    "len(movies[movies.title.str.contains('Hamlet', case=False)])"
   ]
  },
  {
   "cell_type": "markdown",
   "metadata": {},
   "source": [
    "### Section I - Q5: List all movies titled \"Hamlet\" \n",
    "- The movies should only have been released on or after the year 2000\n",
    "- Display the movies based on the year they were released (earliest to most recent)"
   ]
  },
  {
   "cell_type": "code",
   "execution_count": 297,
   "metadata": {
    "gradient": {}
   },
   "outputs": [
    {
     "data": {
      "text/html": [
       "<div>\n",
       "<style scoped>\n",
       "    .dataframe tbody tr th:only-of-type {\n",
       "        vertical-align: middle;\n",
       "    }\n",
       "\n",
       "    .dataframe tbody tr th {\n",
       "        vertical-align: top;\n",
       "    }\n",
       "\n",
       "    .dataframe thead th {\n",
       "        text-align: right;\n",
       "    }\n",
       "</style>\n",
       "<table border=\"1\" class=\"dataframe\">\n",
       "  <thead>\n",
       "    <tr style=\"text-align: right;\">\n",
       "      <th></th>\n",
       "      <th>title</th>\n",
       "      <th>year</th>\n",
       "    </tr>\n",
       "  </thead>\n",
       "  <tbody>\n",
       "    <tr>\n",
       "      <th>1931</th>\n",
       "      <td>Hamlet</td>\n",
       "      <td>2009</td>\n",
       "    </tr>\n",
       "    <tr>\n",
       "      <th>8214</th>\n",
       "      <td>Hamlet</td>\n",
       "      <td>1976</td>\n",
       "    </tr>\n",
       "    <tr>\n",
       "      <th>10364</th>\n",
       "      <td>Hamlet A.D.D.</td>\n",
       "      <td>2014</td>\n",
       "    </tr>\n",
       "    <tr>\n",
       "      <th>17531</th>\n",
       "      <td>Hamlet's Ghost</td>\n",
       "      <td>2015</td>\n",
       "    </tr>\n",
       "    <tr>\n",
       "      <th>17833</th>\n",
       "      <td>Zombie Hamlet</td>\n",
       "      <td>2012</td>\n",
       "    </tr>\n",
       "    <tr>\n",
       "      <th>40045</th>\n",
       "      <td>Hamlet (II)</td>\n",
       "      <td>2005</td>\n",
       "    </tr>\n",
       "    <tr>\n",
       "      <th>44571</th>\n",
       "      <td>Hamlet (II)</td>\n",
       "      <td>2015</td>\n",
       "    </tr>\n",
       "    <tr>\n",
       "      <th>46344</th>\n",
       "      <td>Hamlet</td>\n",
       "      <td>1921</td>\n",
       "    </tr>\n",
       "    <tr>\n",
       "      <th>47248</th>\n",
       "      <td>Hamlet liikemaailmassa</td>\n",
       "      <td>1987</td>\n",
       "    </tr>\n",
       "    <tr>\n",
       "      <th>50271</th>\n",
       "      <td>Hamlet/Horatio</td>\n",
       "      <td>2017</td>\n",
       "    </tr>\n",
       "    <tr>\n",
       "      <th>51236</th>\n",
       "      <td>Hamlet Unbound</td>\n",
       "      <td>2012</td>\n",
       "    </tr>\n",
       "    <tr>\n",
       "      <th>52408</th>\n",
       "      <td>Hamlet the Vampire Slayer</td>\n",
       "      <td>2008</td>\n",
       "    </tr>\n",
       "    <tr>\n",
       "      <th>55525</th>\n",
       "      <td>Hamlet in the Hamptons</td>\n",
       "      <td>2002</td>\n",
       "    </tr>\n",
       "    <tr>\n",
       "      <th>55639</th>\n",
       "      <td>Hamlet</td>\n",
       "      <td>2000</td>\n",
       "    </tr>\n",
       "    <tr>\n",
       "      <th>55951</th>\n",
       "      <td>Fuck Hamlet</td>\n",
       "      <td>1996</td>\n",
       "    </tr>\n",
       "    <tr>\n",
       "      <th>66134</th>\n",
       "      <td>Han, hun og Hamlet</td>\n",
       "      <td>1922</td>\n",
       "    </tr>\n",
       "    <tr>\n",
       "      <th>70547</th>\n",
       "      <td>Royal Shakespeare Company: Hamlet</td>\n",
       "      <td>2016</td>\n",
       "    </tr>\n",
       "    <tr>\n",
       "      <th>73869</th>\n",
       "      <td>Hamlet</td>\n",
       "      <td>1948</td>\n",
       "    </tr>\n",
       "    <tr>\n",
       "      <th>77508</th>\n",
       "      <td>Hamlet, Prince of Denmark</td>\n",
       "      <td>1997</td>\n",
       "    </tr>\n",
       "    <tr>\n",
       "      <th>78217</th>\n",
       "      <td>Hamlet: The Fall of a Sparrow</td>\n",
       "      <td>2018</td>\n",
       "    </tr>\n",
       "    <tr>\n",
       "      <th>98326</th>\n",
       "      <td>Hamlet</td>\n",
       "      <td>1990</td>\n",
       "    </tr>\n",
       "    <tr>\n",
       "      <th>98329</th>\n",
       "      <td>Hamlet (II)</td>\n",
       "      <td>2017</td>\n",
       "    </tr>\n",
       "    <tr>\n",
       "      <th>108528</th>\n",
       "      <td>Han, hun og Hamlet</td>\n",
       "      <td>1932</td>\n",
       "    </tr>\n",
       "    <tr>\n",
       "      <th>118535</th>\n",
       "      <td>Hamlet</td>\n",
       "      <td>1913</td>\n",
       "    </tr>\n",
       "    <tr>\n",
       "      <th>124506</th>\n",
       "      <td>Hamlet</td>\n",
       "      <td>1911</td>\n",
       "    </tr>\n",
       "    <tr>\n",
       "      <th>132639</th>\n",
       "      <td>Predstava 'Hamleta' u Mrdusi Donjoj</td>\n",
       "      <td>1974</td>\n",
       "    </tr>\n",
       "    <tr>\n",
       "      <th>133802</th>\n",
       "      <td>National Theatre Live: Hamlet</td>\n",
       "      <td>2015</td>\n",
       "    </tr>\n",
       "    <tr>\n",
       "      <th>137905</th>\n",
       "      <td>Hamlet_X</td>\n",
       "      <td>2003</td>\n",
       "    </tr>\n",
       "    <tr>\n",
       "      <th>140203</th>\n",
       "      <td>Hamlet</td>\n",
       "      <td>1954</td>\n",
       "    </tr>\n",
       "    <tr>\n",
       "      <th>141237</th>\n",
       "      <td>Hamlet 2</td>\n",
       "      <td>2008</td>\n",
       "    </tr>\n",
       "    <tr>\n",
       "      <th>142663</th>\n",
       "      <td>A Sagebrush Hamlet</td>\n",
       "      <td>1919</td>\n",
       "    </tr>\n",
       "    <tr>\n",
       "      <th>152920</th>\n",
       "      <td>Dogg's Hamlet, Cahoot's Macbeth</td>\n",
       "      <td>2005</td>\n",
       "    </tr>\n",
       "    <tr>\n",
       "      <th>155004</th>\n",
       "      <td>Hamlet</td>\n",
       "      <td>1964</td>\n",
       "    </tr>\n",
       "    <tr>\n",
       "      <th>156899</th>\n",
       "      <td>Hamlet (III)</td>\n",
       "      <td>2007</td>\n",
       "    </tr>\n",
       "    <tr>\n",
       "      <th>159981</th>\n",
       "      <td>Green Eggs and Hamlet</td>\n",
       "      <td>1995</td>\n",
       "    </tr>\n",
       "    <tr>\n",
       "      <th>164205</th>\n",
       "      <td>Hamlet: Prince of Denmark</td>\n",
       "      <td>1989</td>\n",
       "    </tr>\n",
       "    <tr>\n",
       "      <th>176528</th>\n",
       "      <td>Hamlet (II)</td>\n",
       "      <td>2007</td>\n",
       "    </tr>\n",
       "    <tr>\n",
       "      <th>178290</th>\n",
       "      <td>Hamlet</td>\n",
       "      <td>2014</td>\n",
       "    </tr>\n",
       "    <tr>\n",
       "      <th>180979</th>\n",
       "      <td>Hamlet</td>\n",
       "      <td>1987</td>\n",
       "    </tr>\n",
       "    <tr>\n",
       "      <th>181090</th>\n",
       "      <td>Hamlet</td>\n",
       "      <td>1910</td>\n",
       "    </tr>\n",
       "    <tr>\n",
       "      <th>186136</th>\n",
       "      <td>Harry, Hamlet and I</td>\n",
       "      <td>2013</td>\n",
       "    </tr>\n",
       "    <tr>\n",
       "      <th>186137</th>\n",
       "      <td>Hamlet</td>\n",
       "      <td>2015</td>\n",
       "    </tr>\n",
       "    <tr>\n",
       "      <th>191734</th>\n",
       "      <td>Kitchen Hamlet</td>\n",
       "      <td>2009</td>\n",
       "    </tr>\n",
       "    <tr>\n",
       "      <th>191940</th>\n",
       "      <td>Hamlet</td>\n",
       "      <td>2016</td>\n",
       "    </tr>\n",
       "    <tr>\n",
       "      <th>200246</th>\n",
       "      <td>The Tragedy of Hamlet Prince of Denmark</td>\n",
       "      <td>2007</td>\n",
       "    </tr>\n",
       "    <tr>\n",
       "      <th>209533</th>\n",
       "      <td>Hamlet, Son of a Kingpin</td>\n",
       "      <td>2015</td>\n",
       "    </tr>\n",
       "    <tr>\n",
       "      <th>215089</th>\n",
       "      <td>Hamlet (II)</td>\n",
       "      <td>1964</td>\n",
       "    </tr>\n",
       "    <tr>\n",
       "      <th>218339</th>\n",
       "      <td>Hamlet</td>\n",
       "      <td>1973</td>\n",
       "    </tr>\n",
       "    <tr>\n",
       "      <th>218468</th>\n",
       "      <td>Hamlet X</td>\n",
       "      <td>2004</td>\n",
       "    </tr>\n",
       "    <tr>\n",
       "      <th>220674</th>\n",
       "      <td>Hamlet Demonstration</td>\n",
       "      <td>2011</td>\n",
       "    </tr>\n",
       "    <tr>\n",
       "      <th>222156</th>\n",
       "      <td>Hamlet</td>\n",
       "      <td>1969</td>\n",
       "    </tr>\n",
       "    <tr>\n",
       "      <th>227953</th>\n",
       "      <td>Hamlet</td>\n",
       "      <td>2011</td>\n",
       "    </tr>\n",
       "    <tr>\n",
       "      <th>233676</th>\n",
       "      <td>H for Hamlet</td>\n",
       "      <td>1993</td>\n",
       "    </tr>\n",
       "    <tr>\n",
       "      <th>235754</th>\n",
       "      <td>Intikam Melegi/Kadin Hamlet</td>\n",
       "      <td>1976</td>\n",
       "    </tr>\n",
       "    <tr>\n",
       "      <th>240089</th>\n",
       "      <td>Hamlet in the Golden Vale</td>\n",
       "      <td>2017</td>\n",
       "    </tr>\n",
       "    <tr>\n",
       "      <th>241149</th>\n",
       "      <td>Hamlet</td>\n",
       "      <td>1996</td>\n",
       "    </tr>\n",
       "    <tr>\n",
       "      <th>244747</th>\n",
       "      <td>Hamlet</td>\n",
       "      <td>2017</td>\n",
       "    </tr>\n",
       "  </tbody>\n",
       "</table>\n",
       "</div>"
      ],
      "text/plain": [
       "                                          title  year\n",
       "1931                                     Hamlet  2009\n",
       "8214                                     Hamlet  1976\n",
       "10364                             Hamlet A.D.D.  2014\n",
       "17531                            Hamlet's Ghost  2015\n",
       "17833                             Zombie Hamlet  2012\n",
       "40045                               Hamlet (II)  2005\n",
       "44571                               Hamlet (II)  2015\n",
       "46344                                    Hamlet  1921\n",
       "47248                    Hamlet liikemaailmassa  1987\n",
       "50271                            Hamlet/Horatio  2017\n",
       "51236                            Hamlet Unbound  2012\n",
       "52408                 Hamlet the Vampire Slayer  2008\n",
       "55525                    Hamlet in the Hamptons  2002\n",
       "55639                                    Hamlet  2000\n",
       "55951                               Fuck Hamlet  1996\n",
       "66134                        Han, hun og Hamlet  1922\n",
       "70547         Royal Shakespeare Company: Hamlet  2016\n",
       "73869                                    Hamlet  1948\n",
       "77508                 Hamlet, Prince of Denmark  1997\n",
       "78217             Hamlet: The Fall of a Sparrow  2018\n",
       "98326                                    Hamlet  1990\n",
       "98329                               Hamlet (II)  2017\n",
       "108528                       Han, hun og Hamlet  1932\n",
       "118535                                   Hamlet  1913\n",
       "124506                                   Hamlet  1911\n",
       "132639      Predstava 'Hamleta' u Mrdusi Donjoj  1974\n",
       "133802            National Theatre Live: Hamlet  2015\n",
       "137905                                 Hamlet_X  2003\n",
       "140203                                   Hamlet  1954\n",
       "141237                                 Hamlet 2  2008\n",
       "142663                       A Sagebrush Hamlet  1919\n",
       "152920          Dogg's Hamlet, Cahoot's Macbeth  2005\n",
       "155004                                   Hamlet  1964\n",
       "156899                             Hamlet (III)  2007\n",
       "159981                    Green Eggs and Hamlet  1995\n",
       "164205                Hamlet: Prince of Denmark  1989\n",
       "176528                              Hamlet (II)  2007\n",
       "178290                                   Hamlet  2014\n",
       "180979                                   Hamlet  1987\n",
       "181090                                   Hamlet  1910\n",
       "186136                      Harry, Hamlet and I  2013\n",
       "186137                                   Hamlet  2015\n",
       "191734                           Kitchen Hamlet  2009\n",
       "191940                                   Hamlet  2016\n",
       "200246  The Tragedy of Hamlet Prince of Denmark  2007\n",
       "209533                 Hamlet, Son of a Kingpin  2015\n",
       "215089                              Hamlet (II)  1964\n",
       "218339                                   Hamlet  1973\n",
       "218468                                 Hamlet X  2004\n",
       "220674                     Hamlet Demonstration  2011\n",
       "222156                                   Hamlet  1969\n",
       "227953                                   Hamlet  2011\n",
       "233676                             H for Hamlet  1993\n",
       "235754              Intikam Melegi/Kadin Hamlet  1976\n",
       "240089                Hamlet in the Golden Vale  2017\n",
       "241149                                   Hamlet  1996\n",
       "244747                                   Hamlet  2017"
      ]
     },
     "execution_count": 297,
     "metadata": {},
     "output_type": "execute_result"
    }
   ],
   "source": [
    "movies[movies.title.str.contains('Hamlet', case=False)]"
   ]
  },
  {
   "cell_type": "markdown",
   "metadata": {},
   "source": [
    "### Section I - Q6: How many roles in the movie \"Inception\" are of the supporting cast (extra credits)\n",
    "- supporting cast are NOT ranked by an \"n\" value (NaN)\n",
    "- check for how to filter based on nulls"
   ]
  },
  {
   "cell_type": "code",
   "execution_count": 298,
   "metadata": {
    "gradient": {}
   },
   "outputs": [
    {
     "data": {
      "text/plain": [
       "7417"
      ]
     },
     "execution_count": 298,
     "metadata": {},
     "output_type": "execute_result"
    }
   ],
   "source": [
    "len(cast[( (cast.title.str.contains('inception', case = False)) & (cast.character.str.contains('credits', case = False)) | (cast.character.str.contains('extra', case = False)) & (cast.n.notnull()))])"
   ]
  },
  {
   "cell_type": "markdown",
   "metadata": {},
   "source": [
    "### Section I - Q7: How many roles in the movie \"Inception\" are of the main cast\n",
    "- main cast always have an 'n' value"
   ]
  },
  {
   "cell_type": "code",
   "execution_count": 299,
   "metadata": {
    "gradient": {}
   },
   "outputs": [
    {
     "data": {
      "text/plain": [
       "51"
      ]
     },
     "execution_count": 299,
     "metadata": {},
     "output_type": "execute_result"
    }
   ],
   "source": [
    "len(cast[(cast.title.str.contains('Inception', case=False)) & (cast.n.notnull())])"
   ]
  },
  {
   "cell_type": "markdown",
   "metadata": {},
   "source": [
    "### Section I - Q8: Show the top ten cast (actors\\actresses) in the movie \"Inception\" \n",
    "- main cast always have an 'n' value\n",
    "- remember to sort!"
   ]
  },
  {
   "cell_type": "code",
   "execution_count": 300,
   "metadata": {
    "gradient": {}
   },
   "outputs": [
    {
     "data": {
      "text/html": [
       "<div>\n",
       "<style scoped>\n",
       "    .dataframe tbody tr th:only-of-type {\n",
       "        vertical-align: middle;\n",
       "    }\n",
       "\n",
       "    .dataframe tbody tr th {\n",
       "        vertical-align: top;\n",
       "    }\n",
       "\n",
       "    .dataframe thead th {\n",
       "        text-align: right;\n",
       "    }\n",
       "</style>\n",
       "<table border=\"1\" class=\"dataframe\">\n",
       "  <thead>\n",
       "    <tr style=\"text-align: right;\">\n",
       "      <th></th>\n",
       "      <th>title</th>\n",
       "      <th>year</th>\n",
       "      <th>name</th>\n",
       "      <th>type</th>\n",
       "      <th>character</th>\n",
       "      <th>n</th>\n",
       "    </tr>\n",
       "  </thead>\n",
       "  <tbody>\n",
       "    <tr>\n",
       "      <th>3731263</th>\n",
       "      <td>Inception</td>\n",
       "      <td>2010</td>\n",
       "      <td>Shannon Welles</td>\n",
       "      <td>actress</td>\n",
       "      <td>Old Mal</td>\n",
       "      <td>51.0</td>\n",
       "    </tr>\n",
       "    <tr>\n",
       "      <th>833376</th>\n",
       "      <td>Inception</td>\n",
       "      <td>2010</td>\n",
       "      <td>Jack Gilroy</td>\n",
       "      <td>actor</td>\n",
       "      <td>Old Cobb</td>\n",
       "      <td>50.0</td>\n",
       "    </tr>\n",
       "    <tr>\n",
       "      <th>2250605</th>\n",
       "      <td>Inception</td>\n",
       "      <td>2010</td>\n",
       "      <td>Jason Tendell</td>\n",
       "      <td>actor</td>\n",
       "      <td>Fischer's Driver</td>\n",
       "      <td>49.0</td>\n",
       "    </tr>\n",
       "    <tr>\n",
       "      <th>3473041</th>\n",
       "      <td>Inception</td>\n",
       "      <td>2010</td>\n",
       "      <td>Lisa (II) Reynolds</td>\n",
       "      <td>actress</td>\n",
       "      <td>Private Nurse</td>\n",
       "      <td>48.0</td>\n",
       "    </tr>\n",
       "    <tr>\n",
       "      <th>1812091</th>\n",
       "      <td>Inception</td>\n",
       "      <td>2010</td>\n",
       "      <td>Andrew Pleavin</td>\n",
       "      <td>actor</td>\n",
       "      <td>Businessman</td>\n",
       "      <td>47.0</td>\n",
       "    </tr>\n",
       "    <tr>\n",
       "      <th>2049179</th>\n",
       "      <td>Inception</td>\n",
       "      <td>2010</td>\n",
       "      <td>Felix Scott</td>\n",
       "      <td>actor</td>\n",
       "      <td>Businessman</td>\n",
       "      <td>46.0</td>\n",
       "    </tr>\n",
       "    <tr>\n",
       "      <th>807795</th>\n",
       "      <td>Inception</td>\n",
       "      <td>2010</td>\n",
       "      <td>Michael Gaston</td>\n",
       "      <td>actor</td>\n",
       "      <td>Immigration Officer</td>\n",
       "      <td>45.0</td>\n",
       "    </tr>\n",
       "    <tr>\n",
       "      <th>149008</th>\n",
       "      <td>Inception</td>\n",
       "      <td>2010</td>\n",
       "      <td>Peter Basham</td>\n",
       "      <td>actor</td>\n",
       "      <td>Fischer's Jet Captain</td>\n",
       "      <td>44.0</td>\n",
       "    </tr>\n",
       "    <tr>\n",
       "      <th>3444628</th>\n",
       "      <td>Inception</td>\n",
       "      <td>2010</td>\n",
       "      <td>Nicole Pulliam</td>\n",
       "      <td>actress</td>\n",
       "      <td>Lobby Sub Con</td>\n",
       "      <td>43.0</td>\n",
       "    </tr>\n",
       "    <tr>\n",
       "      <th>3203564</th>\n",
       "      <td>Inception</td>\n",
       "      <td>2010</td>\n",
       "      <td>Alex (II) Lombard</td>\n",
       "      <td>actress</td>\n",
       "      <td>Lobby Sub Con</td>\n",
       "      <td>42.0</td>\n",
       "    </tr>\n",
       "  </tbody>\n",
       "</table>\n",
       "</div>"
      ],
      "text/plain": [
       "             title  year                name     type              character  \\\n",
       "3731263  Inception  2010      Shannon Welles  actress                Old Mal   \n",
       "833376   Inception  2010         Jack Gilroy    actor               Old Cobb   \n",
       "2250605  Inception  2010       Jason Tendell    actor       Fischer's Driver   \n",
       "3473041  Inception  2010  Lisa (II) Reynolds  actress          Private Nurse   \n",
       "1812091  Inception  2010      Andrew Pleavin    actor            Businessman   \n",
       "2049179  Inception  2010         Felix Scott    actor            Businessman   \n",
       "807795   Inception  2010      Michael Gaston    actor    Immigration Officer   \n",
       "149008   Inception  2010        Peter Basham    actor  Fischer's Jet Captain   \n",
       "3444628  Inception  2010      Nicole Pulliam  actress          Lobby Sub Con   \n",
       "3203564  Inception  2010   Alex (II) Lombard  actress          Lobby Sub Con   \n",
       "\n",
       "            n  \n",
       "3731263  51.0  \n",
       "833376   50.0  \n",
       "2250605  49.0  \n",
       "3473041  48.0  \n",
       "1812091  47.0  \n",
       "2049179  46.0  \n",
       "807795   45.0  \n",
       "149008   44.0  \n",
       "3444628  43.0  \n",
       "3203564  42.0  "
      ]
     },
     "execution_count": 300,
     "metadata": {},
     "output_type": "execute_result"
    }
   ],
   "source": [
    "cast[(cast.title.str.contains('Inception', case=False)) & (cast.n.notnull())].sort_values(by=['n'], ascending=False).head(10)"
   ]
  },
  {
   "cell_type": "markdown",
   "metadata": {},
   "source": [
    "### Section I - Q9:\n",
    "\n",
    "(A) List all movies where there was a character 'Albus Dumbledore' \n",
    "\n",
    "(B) Now modify the above to show only the actors who played the character 'Albus Dumbledore'\n",
    "- For Part (B) remember the same actor might play the same role in multiple movies"
   ]
  },
  {
   "cell_type": "code",
   "execution_count": 301,
   "metadata": {
    "gradient": {}
   },
   "outputs": [
    {
     "data": {
      "text/html": [
       "<div>\n",
       "<style scoped>\n",
       "    .dataframe tbody tr th:only-of-type {\n",
       "        vertical-align: middle;\n",
       "    }\n",
       "\n",
       "    .dataframe tbody tr th {\n",
       "        vertical-align: top;\n",
       "    }\n",
       "\n",
       "    .dataframe thead th {\n",
       "        text-align: right;\n",
       "    }\n",
       "</style>\n",
       "<table border=\"1\" class=\"dataframe\">\n",
       "  <thead>\n",
       "    <tr style=\"text-align: right;\">\n",
       "      <th></th>\n",
       "      <th>title</th>\n",
       "      <th>year</th>\n",
       "      <th>name</th>\n",
       "      <th>type</th>\n",
       "      <th>character</th>\n",
       "      <th>n</th>\n",
       "    </tr>\n",
       "  </thead>\n",
       "  <tbody>\n",
       "    <tr>\n",
       "      <th>704984</th>\n",
       "      <td>Epic Movie</td>\n",
       "      <td>2007</td>\n",
       "      <td>Dane Farwell</td>\n",
       "      <td>actor</td>\n",
       "      <td>Albus Dumbledore</td>\n",
       "      <td>17.0</td>\n",
       "    </tr>\n",
       "    <tr>\n",
       "      <th>792419</th>\n",
       "      <td>Harry Potter and the Deathly Hallows: Part 1</td>\n",
       "      <td>2010</td>\n",
       "      <td>Michael Gambon</td>\n",
       "      <td>actor</td>\n",
       "      <td>Professor Albus Dumbledore</td>\n",
       "      <td>39.0</td>\n",
       "    </tr>\n",
       "    <tr>\n",
       "      <th>792420</th>\n",
       "      <td>Harry Potter and the Deathly Hallows: Part 2</td>\n",
       "      <td>2011</td>\n",
       "      <td>Michael Gambon</td>\n",
       "      <td>actor</td>\n",
       "      <td>Professor Albus Dumbledore</td>\n",
       "      <td>2.0</td>\n",
       "    </tr>\n",
       "    <tr>\n",
       "      <th>792421</th>\n",
       "      <td>Harry Potter and the Goblet of Fire</td>\n",
       "      <td>2005</td>\n",
       "      <td>Michael Gambon</td>\n",
       "      <td>actor</td>\n",
       "      <td>Albus Dumbledore</td>\n",
       "      <td>37.0</td>\n",
       "    </tr>\n",
       "    <tr>\n",
       "      <th>792422</th>\n",
       "      <td>Harry Potter and the Half-Blood Prince</td>\n",
       "      <td>2009</td>\n",
       "      <td>Michael Gambon</td>\n",
       "      <td>actor</td>\n",
       "      <td>Professor Albus Dumbledore</td>\n",
       "      <td>2.0</td>\n",
       "    </tr>\n",
       "    <tr>\n",
       "      <th>792423</th>\n",
       "      <td>Harry Potter and the Order of the Phoenix</td>\n",
       "      <td>2007</td>\n",
       "      <td>Michael Gambon</td>\n",
       "      <td>actor</td>\n",
       "      <td>Albus Dumbledore</td>\n",
       "      <td>36.0</td>\n",
       "    </tr>\n",
       "    <tr>\n",
       "      <th>792424</th>\n",
       "      <td>Harry Potter and the Prisoner of Azkaban</td>\n",
       "      <td>2004</td>\n",
       "      <td>Michael Gambon</td>\n",
       "      <td>actor</td>\n",
       "      <td>Albus Dumbledore</td>\n",
       "      <td>27.0</td>\n",
       "    </tr>\n",
       "    <tr>\n",
       "      <th>947789</th>\n",
       "      <td>Harry Potter and the Chamber of Secrets</td>\n",
       "      <td>2002</td>\n",
       "      <td>Richard Harris</td>\n",
       "      <td>actor</td>\n",
       "      <td>Albus Dumbledore</td>\n",
       "      <td>32.0</td>\n",
       "    </tr>\n",
       "    <tr>\n",
       "      <th>947790</th>\n",
       "      <td>Harry Potter and the Sorcerer's Stone</td>\n",
       "      <td>2001</td>\n",
       "      <td>Richard Harris</td>\n",
       "      <td>actor</td>\n",
       "      <td>Albus Dumbledore</td>\n",
       "      <td>1.0</td>\n",
       "    </tr>\n",
       "  </tbody>\n",
       "</table>\n",
       "</div>"
      ],
      "text/plain": [
       "                                               title  year            name  \\\n",
       "704984                                    Epic Movie  2007    Dane Farwell   \n",
       "792419  Harry Potter and the Deathly Hallows: Part 1  2010  Michael Gambon   \n",
       "792420  Harry Potter and the Deathly Hallows: Part 2  2011  Michael Gambon   \n",
       "792421           Harry Potter and the Goblet of Fire  2005  Michael Gambon   \n",
       "792422        Harry Potter and the Half-Blood Prince  2009  Michael Gambon   \n",
       "792423     Harry Potter and the Order of the Phoenix  2007  Michael Gambon   \n",
       "792424      Harry Potter and the Prisoner of Azkaban  2004  Michael Gambon   \n",
       "947789       Harry Potter and the Chamber of Secrets  2002  Richard Harris   \n",
       "947790         Harry Potter and the Sorcerer's Stone  2001  Richard Harris   \n",
       "\n",
       "         type                   character     n  \n",
       "704984  actor            Albus Dumbledore  17.0  \n",
       "792419  actor  Professor Albus Dumbledore  39.0  \n",
       "792420  actor  Professor Albus Dumbledore   2.0  \n",
       "792421  actor            Albus Dumbledore  37.0  \n",
       "792422  actor  Professor Albus Dumbledore   2.0  \n",
       "792423  actor            Albus Dumbledore  36.0  \n",
       "792424  actor            Albus Dumbledore  27.0  \n",
       "947789  actor            Albus Dumbledore  32.0  \n",
       "947790  actor            Albus Dumbledore   1.0  "
      ]
     },
     "execution_count": 301,
     "metadata": {},
     "output_type": "execute_result"
    }
   ],
   "source": [
    "cast[(cast.character.str.contains('Albus Dumbledore', case=False)) & (cast.n.notnull())]"
   ]
  },
  {
   "cell_type": "code",
   "execution_count": 302,
   "metadata": {
    "gradient": {}
   },
   "outputs": [
    {
     "data": {
      "text/plain": [
       "array(['Dane Farwell', 'Michael Gambon', 'Richard Harris'], dtype=object)"
      ]
     },
     "execution_count": 302,
     "metadata": {},
     "output_type": "execute_result"
    }
   ],
   "source": [
    "cast[(cast.character.str.contains('Albus Dumbledore', case=False)) & (cast.n.notnull())].name.unique()"
   ]
  },
  {
   "cell_type": "markdown",
   "metadata": {},
   "source": [
    "### Section I - Q10:\n",
    "\n",
    "(A) How many roles has 'Keanu Reeves' played throughout his career?\n",
    "\n",
    "(B) List the leading roles that 'Keanu Reeves' played on or after 1999 in order by year."
   ]
  },
  {
   "cell_type": "code",
   "execution_count": 303,
   "metadata": {
    "gradient": {}
   },
   "outputs": [
    {
     "data": {
      "text/plain": [
       "53"
      ]
     },
     "execution_count": 303,
     "metadata": {},
     "output_type": "execute_result"
    }
   ],
   "source": [
    "len(cast[(cast.name =='Keanu Reeves') & (cast.n.notnull())].character.unique())"
   ]
  },
  {
   "cell_type": "code",
   "execution_count": 304,
   "metadata": {
    "gradient": {}
   },
   "outputs": [
    {
     "data": {
      "text/plain": [
       "array(['Kai', 'Bob Arctor', 'John Constantine', 'Dogstar',\n",
       "       'Detective Galban', \"Conor O'Neill\", 'Henry Torne', 'John Wick',\n",
       "       'Keanu', 'Evan', 'Donaka Mark', 'Himself', 'Lucas Hill',\n",
       "       'Julian Mercer', 'Detective Tom Ludlow', 'Nelson Moss',\n",
       "       'The Dream', 'Klaatu', 'Donnie Barksdale', 'Alex Wyler', 'Neo',\n",
       "       'Hank', 'Chris Nadeau', 'Shane Falco', 'Griffin', 'Ramsey',\n",
       "       'Perry Lyman', 'Dr. Beckham'], dtype=object)"
      ]
     },
     "execution_count": 304,
     "metadata": {},
     "output_type": "execute_result"
    }
   ],
   "source": [
    "cast[(cast.year >= 1999) & (cast.name =='Keanu Reeves') & (cast.n.notnull())].character.unique()"
   ]
  },
  {
   "cell_type": "markdown",
   "metadata": {},
   "source": [
    "### Section I - Q11: \n",
    "\n",
    "(A) List the total number of actor and actress roles available from 1950 - 1960\n",
    "\n",
    "(B) List the total number of actor and actress roles available from 2007 - 2017"
   ]
  },
  {
   "cell_type": "code",
   "execution_count": 305,
   "metadata": {
    "gradient": {}
   },
   "outputs": [
    {
     "data": {
      "text/plain": [
       "1309271"
      ]
     },
     "execution_count": 305,
     "metadata": {},
     "output_type": "execute_result"
    }
   ],
   "source": [
    "len(cast[(cast.year >= 1950) & (cast.year >= 1960)].name.unique())"
   ]
  },
  {
   "cell_type": "code",
   "execution_count": 306,
   "metadata": {
    "gradient": {}
   },
   "outputs": [
    {
     "data": {
      "text/plain": [
       "158148"
      ]
     },
     "execution_count": 306,
     "metadata": {},
     "output_type": "execute_result"
    }
   ],
   "source": [
    "len(cast[(cast.year >= 2007) & (cast.year >= 2017)].name.unique())"
   ]
  },
  {
   "cell_type": "markdown",
   "metadata": {},
   "source": [
    "### Section I - Q12: \n",
    "\n",
    "(A) List the total number of leading roles available from 2000 to present\n",
    "\n",
    "(B) List the total number of non-leading roles available from 2000 - present (exclude support cast)\n",
    "\n",
    "(C) List the total number of support\\extra-credit roles available from 2000 - present"
   ]
  },
  {
   "cell_type": "code",
   "execution_count": 307,
   "metadata": {
    "gradient": {}
   },
   "outputs": [
    {
     "data": {
      "text/plain": [
       "28"
      ]
     },
     "execution_count": 307,
     "metadata": {},
     "output_type": "execute_result"
    }
   ],
   "source": [
    "len(cast[( (cast.year >= 2000) & (cast.character.str.contains('leading', case = False))) & (cast.n.notnull())])"
   ]
  },
  {
   "cell_type": "code",
   "execution_count": 308,
   "metadata": {
    "gradient": {}
   },
   "outputs": [
    {
     "data": {
      "text/plain": [
       "1061739"
      ]
     },
     "execution_count": 308,
     "metadata": {},
     "output_type": "execute_result"
    }
   ],
   "source": [
    "len(cast[( (cast.year >= 2000) & (~cast.character.str.contains('leading', case = False))) & (~cast.character.str.contains('support', case = False)) & (cast.n.notnull())])"
   ]
  },
  {
   "cell_type": "code",
   "execution_count": 309,
   "metadata": {
    "gradient": {}
   },
   "outputs": [
    {
     "data": {
      "text/plain": [
       "20358"
      ]
     },
     "execution_count": 309,
     "metadata": {},
     "output_type": "execute_result"
    }
   ],
   "source": [
    "len(cast[( (cast.year >= 2000) & (cast.character.str.contains('credit', case = False)) | (cast.character.str.contains('extra', case = False)) | (cast.character.str.contains('support', case = False)) & (cast.n.notnull()))])"
   ]
  },
  {
   "cell_type": "markdown",
   "metadata": {},
   "source": [
    "# Section II - Aggregations, Transformations and Visualizations"
   ]
  },
  {
   "cell_type": "markdown",
   "metadata": {},
   "source": [
    "## What are the top ten most common movie names of all time?\n"
   ]
  },
  {
   "cell_type": "code",
   "execution_count": 310,
   "metadata": {
    "gradient": {}
   },
   "outputs": [
    {
     "data": {
      "text/plain": [
       "Hamlet                  20\n",
       "Carmen                  17\n",
       "Macbeth                 16\n",
       "The Outsider            12\n",
       "Temptation              12\n",
       "Maya                    12\n",
       "Freedom                 11\n",
       "Othello                 11\n",
       "Honeymoon               11\n",
       "The Three Musketeers    11\n",
       "Name: title, dtype: int64"
      ]
     },
     "execution_count": 310,
     "metadata": {},
     "output_type": "execute_result"
    }
   ],
   "source": [
    "top_ten = movies.title.value_counts()[:10]\n",
    "top_ten"
   ]
  },
  {
   "cell_type": "markdown",
   "metadata": {},
   "source": [
    "### Plot the top ten common movie names of all time"
   ]
  },
  {
   "cell_type": "code",
   "execution_count": 311,
   "metadata": {
    "gradient": {}
   },
   "outputs": [
    {
     "data": {
      "text/plain": [
       "<AxesSubplot:>"
      ]
     },
     "execution_count": 311,
     "metadata": {},
     "output_type": "execute_result"
    },
    {
     "data": {
      "image/png": "[encoded data removed]",
      "text/plain": [
       "<Figure size 432x288 with 1 Axes>"
      ]
     },
     "metadata": {
      "needs_background": "light"
     },
     "output_type": "display_data"
    }
   ],
   "source": [
    "top_ten.plot(kind='barh')"
   ]
  },
  {
   "cell_type": "markdown",
   "metadata": {},
   "source": [
    "### Section II - Q1:  Which years in the 2000s saw the most movies released? (Show top 3)"
   ]
  },
  {
   "cell_type": "code",
   "execution_count": 312,
   "metadata": {
    "gradient": {}
   },
   "outputs": [
    {
     "data": {
      "text/plain": [
       "2017    11474\n",
       "2016     9440\n",
       "2015     8702\n",
       "Name: year, dtype: int64"
      ]
     },
     "execution_count": 312,
     "metadata": {},
     "output_type": "execute_result"
    }
   ],
   "source": [
    "top_three = movies.year.value_counts()[:3]\n",
    "#groupby('year').count().sort_values(by = 'title', ascending = False)[:3]\n",
    "top_three"
   ]
  },
  {
   "cell_type": "markdown",
   "metadata": {},
   "source": [
    "### Section II - Q2: # Plot the total number of films released per-decade (1890, 1900, 1910,....)\n",
    "- Hint: Dividing the year and multiplying with a number might give you the decade the year falls into!\n",
    "- You might need to sort before plotting"
   ]
  },
  {
   "cell_type": "code",
   "execution_count": 338,
   "metadata": {
    "gradient": {}
   },
   "outputs": [
    {
     "data": {
      "image/png": "[encoded data removed]",
      "text/plain": [
       "<Figure size 1440x720 with 1 Axes>"
      ]
     },
     "metadata": {},
     "output_type": "display_data"
    }
   ],
   "source": [
    "sns.set()\n",
    "movies['per-decade'] = (10 * (movies['year'] // 10))\n",
    "total_films = movies['per-decade'].value_counts()\n",
    "#print (total_films)\n",
    "\n",
    "df_total_films = pd.DataFrame(total_films)\n",
    "df_value_counts_reset = df_total_films.reset_index()\n",
    "df_value_counts_reset.columns = ['per-decade', 'counts']\n",
    "\n",
    "\n",
    "df_value_counts_reset = df_value_counts_reset.sort_values(by='per-decade')\n",
    "\n",
    "fig, ax = plt.subplots(figsize=(20, 10))\n",
    "\n",
    "#Plot the total number of films released\n",
    "g = sns.barplot(data = df_value_counts_reset\n",
    "            ,x = 'per-decade'\n",
    "            ,y = 'counts'\n",
    "            ,ax = ax\n",
    "            )\n",
    "\n",
    "g.set_xticklabels(\n",
    "    labels=df_value_counts_reset['per-decade'], rotation=90)\n",
    "# Show the plot\n",
    "plt.show()"
   ]
  },
  {
   "cell_type": "markdown",
   "metadata": {},
   "source": [
    "### Section II - Q3: \n",
    "\n",
    "(A) What are the top 10 most common character names in movie history?\n",
    "\n",
    "(B) Who are the top 10 people most often credited as \"Herself\" in movie history?\n",
    "\n",
    "(C) Who are the top 10 people most often credited as \"Himself\" in movie history?"
   ]
  },
  {
   "cell_type": "code",
   "execution_count": 314,
   "metadata": {
    "gradient": {}
   },
   "outputs": [
    {
     "data": {
      "text/plain": [
       "Himself        20746\n",
       "Dancer         12477\n",
       "Extra          11948\n",
       "Reporter        8434\n",
       "Student         7773\n",
       "Doctor          7669\n",
       "Party Guest     7245\n",
       "Policeman       7029\n",
       "Nurse           6999\n",
       "Bartender       6802\n",
       "Name: character, dtype: int64"
      ]
     },
     "execution_count": 314,
     "metadata": {},
     "output_type": "execute_result"
    }
   ],
   "source": [
    "#cast\n",
    "top_ten = cast.character.value_counts()[:10]\n",
    "top_ten"
   ]
  },
  {
   "cell_type": "code",
   "execution_count": 315,
   "metadata": {
    "gradient": {}
   },
   "outputs": [
    {
     "data": {
      "text/plain": [
       "Queen Elizabeth II                  18\n",
       "Jacqueline Kennedy                  12\n",
       "Margaret Thatcher                   10\n",
       "Joyce Brothers                      10\n",
       "Mara Luisa (V) Martn                 9\n",
       "Hillary Clinton                      9\n",
       "Luisa Horga                          9\n",
       "Pat Nixon                            8\n",
       "Queen Elizabeth the Queen Mother     7\n",
       "Caroline Kennedy                     7\n",
       "Name: name, dtype: int64"
      ]
     },
     "execution_count": 315,
     "metadata": {},
     "output_type": "execute_result"
    }
   ],
   "source": [
    "herself_top_ten = cast[cast.character.str.contains('herself', case = False)].name.str.replace('?','', regex=True).value_counts()[:10]\n",
    "herself_top_ten"
   ]
  },
  {
   "cell_type": "code",
   "execution_count": 316,
   "metadata": {
    "gradient": {}
   },
   "outputs": [
    {
     "data": {
      "text/plain": [
       "Adolf Hitler             115\n",
       "Richard Nixon             54\n",
       "John F. Kennedy           49\n",
       "Ronald Reagan             46\n",
       "George W. Bush            28\n",
       "Winston Churchill         28\n",
       "Benito Mussolini          26\n",
       "Martin Luther King        26\n",
       "Franklin D. Roosevelt     25\n",
       "Bill Clinton              23\n",
       "Name: name, dtype: int64"
      ]
     },
     "execution_count": 316,
     "metadata": {},
     "output_type": "execute_result"
    }
   ],
   "source": [
    "himself_top_ten = cast[cast.character.str.contains('himself', case = False)].name.value_counts()[:10]\n",
    "himself_top_ten"
   ]
  },
  {
   "cell_type": "markdown",
   "metadata": {},
   "source": [
    "### Section II - Q4: \n",
    "\n",
    "(A) What are the top 10 most frequent roles that start with the word \"Zombie\"?\n",
    "\n",
    "(B) What are the top 10 most frequent roles that start with the word \"Police\"?\n",
    "\n",
    "- Hint: The `startswith()` function might be useful"
   ]
  },
  {
   "cell_type": "code",
   "execution_count": 317,
   "metadata": {
    "gradient": {}
   },
   "outputs": [
    {
     "data": {
      "text/plain": [
       "Zombie                         6264\n",
       "Zombie Horde                    206\n",
       "Zombie - Protestor - Victim      78\n",
       "Zombie Extra                     70\n",
       "Zombie Dancer                    43\n",
       "Zombie #1                        36\n",
       "Zombie Girl                      36\n",
       "Zombie #2                        31\n",
       "Zombie Vampire                   25\n",
       "Zombie Victim                    22\n",
       "Name: character, dtype: int64"
      ]
     },
     "execution_count": 317,
     "metadata": {},
     "output_type": "execute_result"
    }
   ],
   "source": [
    "zombie_top_ten = cast[cast.character.str.startswith('Zombie')].character.str.replace('?','', regex=True).value_counts()[:10]\n",
    "zombie_top_ten"
   ]
  },
  {
   "cell_type": "code",
   "execution_count": 318,
   "metadata": {
    "gradient": {}
   },
   "outputs": [
    {
     "data": {
      "text/plain": [
       "Policeman              7029\n",
       "Police Officer         4808\n",
       "Police Inspector        742\n",
       "Police Sergeant         674\n",
       "Police officer          539\n",
       "Police                  456\n",
       "Policewoman             415\n",
       "Police Chief            410\n",
       "Police Captain          387\n",
       "Police Commissioner     337\n",
       "Name: character, dtype: int64"
      ]
     },
     "execution_count": 318,
     "metadata": {},
     "output_type": "execute_result"
    }
   ],
   "source": [
    "police_top_ten = cast[cast.character.str.startswith('Police')].character.str.replace('?','', regex=True).value_counts()[:10]\n",
    "police_top_ten"
   ]
  },
  {
   "cell_type": "markdown",
   "metadata": {},
   "source": [
    "### Section II - Q5: Plot how many roles 'Keanu Reeves' has played in each year of his career."
   ]
  },
  {
   "cell_type": "code",
   "execution_count": 337,
   "metadata": {
    "gradient": {}
   },
   "outputs": [
    {
     "data": {
      "image/png": "[encoded data removed]",
      "text/plain": [
       "<Figure size 1440x720 with 1 Axes>"
      ]
     },
     "metadata": {},
     "output_type": "display_data"
    }
   ],
   "source": [
    "top_ten = cast[cast.name.str.contains('Keanu Reeves', case = False)].year.value_counts()\n",
    "\n",
    "df_keanu_films = pd.DataFrame(top_ten)\n",
    "\n",
    "df_value_counts_reset = df_keanu_films.reset_index()\n",
    "df_value_counts_reset.columns = ['Year', 'Counts']\n",
    "\n",
    "\n",
    "df_value_counts_reset = df_value_counts_reset.sort_values(by='Year')\n",
    "\n",
    "fig, ax = plt.subplots(figsize=(20, 10))\n",
    "\n",
    "#Plot the total roles Keanu Reeves Played \n",
    "g = sns.barplot(data = df_value_counts_reset\n",
    "            ,x = 'Year'\n",
    "            ,y = 'Counts'\n",
    "            ,ax = ax\n",
    "            )\n",
    "\n",
    "g.set_xticklabels(\n",
    "    labels=df_value_counts_reset['Year'], rotation=90)\n",
    "# Show the plot\n",
    "plt.show()"
   ]
  },
  {
   "cell_type": "markdown",
   "metadata": {},
   "source": [
    "### Section II - Q6: Plot the cast positions (n-values) of Keanu Reeve's roles through his career over the years.\n"
   ]
  },
  {
   "cell_type": "code",
   "execution_count": 415,
   "metadata": {
    "gradient": {}
   },
   "outputs": [
    {
     "data": {
      "image/png": "[encoded data removed]",
      "text/plain": [
       "<Figure size 1440x720 with 1 Axes>"
      ]
     },
     "metadata": {},
     "output_type": "display_data"
    }
   ],
   "source": [
    "\n",
    "#cast = pd.read_csv('dataset/cast.csv.zip')\n",
    "\n",
    "df = cast[cast.name.str.contains('Keanu Reeves', case = False)]\n",
    "\n",
    "#df.head()\n",
    "\n",
    "fig, ax = plt.subplots(figsize=(20, 10))\n",
    "  \n",
    "ax.set(xlabel='Release Year', ylabel='Role (n-values)')\n",
    "\n",
    "#Plot the cast positions (n-values) of Keanu Reeve's roles through his career over the years.¶\n",
    "g = sns.boxplot(data = df\n",
    "            ,x = 'year'\n",
    "            ,y = 'n'\n",
    "            ,ax=ax\n",
    "           )\n",
    "\n",
    "\n",
    "plt.ylabel(\"Number of Roles Played\")\n",
    "plt.xlabel(\"Release Year\")\n",
    "plt.title(\"Number of Roles Played over the years\") # You can comment this line out if you don't need title\n",
    "plt.show(g)\n"
   ]
  },
  {
   "cell_type": "markdown",
   "metadata": {},
   "source": [
    "### Section II - Q7: Plot the number of \"Hamlet\" films made by each decade"
   ]
  },
  {
   "cell_type": "code",
   "execution_count": 427,
   "metadata": {
    "gradient": {}
   },
   "outputs": [
    {
     "name": "stderr",
     "output_type": "stream",
     "text": [
      "<ipython-input-427-3b25768536e8>:5: SettingWithCopyWarning: \n",
      "A value is trying to be set on a copy of a slice from a DataFrame.\n",
      "Try using .loc[row_indexer,col_indexer] = value instead\n",
      "\n",
      "See the caveats in the documentation: https://pandas.pydata.org/pandas-docs/stable/user_guide/indexing.html#returning-a-view-versus-a-copy\n",
      "  df['per-decade'] = df.loc[:,'year'].copy().apply(lambda x: 10 * x // 10)\n"
     ]
    },
    {
     "data": {
      "image/png": "[encoded data removed]",
      "text/plain": [
       "<Figure size 1440x720 with 1 Axes>"
      ]
     },
     "metadata": {},
     "output_type": "display_data"
    }
   ],
   "source": [
    "df = cast[cast.title.str.contains('Hamlet', case = False)]\n",
    "\n",
    "df['per-decade'] = df.loc[:,'year'].copy().apply(lambda x: 10 * x // 10)\n",
    "\n",
    "total_films = df['per-decade'].value_counts()\n",
    "#print (total_films)\n",
    "\n",
    "df_total_films = pd.DataFrame(total_films)\n",
    "df_value_counts_reset = df_total_films.reset_index()\n",
    "df_value_counts_reset.columns = ['per-decade', 'counts']\n",
    "\n",
    "df_value_counts_reset = df_value_counts_reset.sort_values(by='per-decade')\n",
    "\n",
    "fig, ax = plt.subplots(figsize=(20, 10))\n",
    "\n",
    "#Plot the total number of films released\n",
    "g = sns.barplot(data = df_value_counts_reset\n",
    "            ,x = 'per-decade'\n",
    "            ,y = 'counts'\n",
    "            ,ax = ax\n",
    "            )\n",
    "\n",
    "g.set_xticklabels(\n",
    "    labels=df_value_counts_reset['per-decade'], rotation=90)\n",
    "# Show the plot\n",
    "plt.show()"
   ]
  },
  {
   "cell_type": "markdown",
   "metadata": {},
   "source": [
    "### Section II - Q8: \n",
    "\n",
    "(A) How many leading roles were available to both actors and actresses, in the 1960s (1960-1969)?\n",
    "\n",
    "(B) How many leading roles were available to both actors and actresses, in the 2000s (2000-2009)?\n",
    "\n",
    "- Hint: A specific value of n might indicate a leading role"
   ]
  },
  {
   "cell_type": "code",
   "execution_count": 342,
   "metadata": {
    "gradient": {}
   },
   "outputs": [
    {
     "name": "stderr",
     "output_type": "stream",
     "text": [
      "<ipython-input-342-04c623b5b319>:2: SettingWithCopyWarning: \n",
      "A value is trying to be set on a copy of a slice from a DataFrame.\n",
      "Try using .loc[row_indexer,col_indexer] = value instead\n",
      "\n",
      "See the caveats in the documentation: https://pandas.pydata.org/pandas-docs/stable/user_guide/indexing.html#returning-a-view-versus-a-copy\n",
      "  df['per-decade'] = (10 * (df['year'] // 10))\n"
     ]
    },
    {
     "data": {
      "text/plain": [
       "4    2121\n",
       "Name: counts, dtype: int64"
      ]
     },
     "execution_count": 342,
     "metadata": {},
     "output_type": "execute_result"
    }
   ],
   "source": [
    "df = cast[(cast.character.str.contains('herself', case = False)) | (cast.character.str.contains('himself', case = False))]\n",
    "df['per-decade'] = (10 * (df['year'] // 10))\n",
    "total_films = df['per-decade'].value_counts()\n",
    "\n",
    "df_total_films = pd.DataFrame(total_films)\n",
    "df_value_counts_reset = df_total_films.reset_index()\n",
    "df_value_counts_reset.columns = ['per-decade', 'counts']\n",
    "\n",
    "df_value_counts_reset[df_value_counts_reset['per-decade'] == 1960].counts"
   ]
  },
  {
   "cell_type": "code",
   "execution_count": 343,
   "metadata": {
    "gradient": {}
   },
   "outputs": [
    {
     "name": "stderr",
     "output_type": "stream",
     "text": [
      "<ipython-input-343-32a0c618ac61>:2: SettingWithCopyWarning: \n",
      "A value is trying to be set on a copy of a slice from a DataFrame.\n",
      "Try using .loc[row_indexer,col_indexer] = value instead\n",
      "\n",
      "See the caveats in the documentation: https://pandas.pydata.org/pandas-docs/stable/user_guide/indexing.html#returning-a-view-versus-a-copy\n",
      "  df['per-decade'] = (10 * (df['year'] // 10))\n"
     ]
    },
    {
     "data": {
      "text/plain": [
       "1    8071\n",
       "Name: counts, dtype: int64"
      ]
     },
     "execution_count": 343,
     "metadata": {},
     "output_type": "execute_result"
    }
   ],
   "source": [
    "df = cast[(cast.character.str.contains('herself', case = False)) | (cast.character.str.contains('himself', case = False))]\n",
    "df['per-decade'] = (10 * (df['year'] // 10))\n",
    "total_films = df['per-decade'].value_counts()\n",
    "\n",
    "df_total_films = pd.DataFrame(total_films)\n",
    "df_value_counts_reset = df_total_films.reset_index()\n",
    "df_value_counts_reset.columns = ['per-decade', 'counts']\n",
    "\n",
    "df_value_counts_reset[df_value_counts_reset['per-decade'] == 2000].counts"
   ]
  },
  {
   "cell_type": "markdown",
   "metadata": {},
   "source": [
    "### Section II - Q9: List, in order by year, each of the films in which Frank Oz has played more than 1 role."
   ]
  },
  {
   "cell_type": "code",
   "execution_count": 378,
   "metadata": {
    "gradient": {}
   },
   "outputs": [
    {
     "data": {
      "text/html": [
       "<div>\n",
       "<style scoped>\n",
       "    .dataframe tbody tr th:only-of-type {\n",
       "        vertical-align: middle;\n",
       "    }\n",
       "\n",
       "    .dataframe tbody tr th {\n",
       "        vertical-align: top;\n",
       "    }\n",
       "\n",
       "    .dataframe thead th {\n",
       "        text-align: right;\n",
       "    }\n",
       "</style>\n",
       "<table border=\"1\" class=\"dataframe\">\n",
       "  <thead>\n",
       "    <tr style=\"text-align: right;\">\n",
       "      <th></th>\n",
       "      <th>year</th>\n",
       "      <th>counts</th>\n",
       "    </tr>\n",
       "  </thead>\n",
       "  <tbody>\n",
       "    <tr>\n",
       "      <th>0</th>\n",
       "      <td>1979</td>\n",
       "      <td>8</td>\n",
       "    </tr>\n",
       "    <tr>\n",
       "      <th>1</th>\n",
       "      <td>1980</td>\n",
       "      <td>2</td>\n",
       "    </tr>\n",
       "    <tr>\n",
       "      <th>2</th>\n",
       "      <td>1981</td>\n",
       "      <td>8</td>\n",
       "    </tr>\n",
       "    <tr>\n",
       "      <th>3</th>\n",
       "      <td>1982</td>\n",
       "      <td>2</td>\n",
       "    </tr>\n",
       "    <tr>\n",
       "      <th>4</th>\n",
       "      <td>1983</td>\n",
       "      <td>3</td>\n",
       "    </tr>\n",
       "    <tr>\n",
       "      <th>5</th>\n",
       "      <td>1984</td>\n",
       "      <td>7</td>\n",
       "    </tr>\n",
       "    <tr>\n",
       "      <th>6</th>\n",
       "      <td>1985</td>\n",
       "      <td>4</td>\n",
       "    </tr>\n",
       "    <tr>\n",
       "      <th>8</th>\n",
       "      <td>1992</td>\n",
       "      <td>8</td>\n",
       "    </tr>\n",
       "    <tr>\n",
       "      <th>9</th>\n",
       "      <td>1996</td>\n",
       "      <td>4</td>\n",
       "    </tr>\n",
       "    <tr>\n",
       "      <th>11</th>\n",
       "      <td>1999</td>\n",
       "      <td>8</td>\n",
       "    </tr>\n",
       "    <tr>\n",
       "      <th>14</th>\n",
       "      <td>2005</td>\n",
       "      <td>2</td>\n",
       "    </tr>\n",
       "    <tr>\n",
       "      <th>16</th>\n",
       "      <td>2015</td>\n",
       "      <td>3</td>\n",
       "    </tr>\n",
       "  </tbody>\n",
       "</table>\n",
       "</div>"
      ],
      "text/plain": [
       "    year  counts\n",
       "0   1979       8\n",
       "1   1980       2\n",
       "2   1981       8\n",
       "3   1982       2\n",
       "4   1983       3\n",
       "5   1984       7\n",
       "6   1985       4\n",
       "8   1992       8\n",
       "9   1996       4\n",
       "11  1999       8\n",
       "14  2005       2\n",
       "16  2015       3"
      ]
     },
     "execution_count": 378,
     "metadata": {},
     "output_type": "execute_result"
    }
   ],
   "source": [
    "df = cast[cast.name.str.contains('Frank Oz', case = False)].groupby('year').size().reset_index(name='counts')\n",
    "#groupby('character').size().reset_index(name='counts')\n",
    "df_new = df[df['counts'] > 1]\n",
    "df_new"
   ]
  },
  {
   "cell_type": "markdown",
   "metadata": {},
   "source": [
    "### Section II - Q10: List each of the characters that Frank Oz has portrayed at least twice"
   ]
  },
  {
   "cell_type": "code",
   "execution_count": 379,
   "metadata": {
    "gradient": {}
   },
   "outputs": [
    {
     "data": {
      "text/html": [
       "<div>\n",
       "<style scoped>\n",
       "    .dataframe tbody tr th:only-of-type {\n",
       "        vertical-align: middle;\n",
       "    }\n",
       "\n",
       "    .dataframe tbody tr th {\n",
       "        vertical-align: top;\n",
       "    }\n",
       "\n",
       "    .dataframe thead th {\n",
       "        text-align: right;\n",
       "    }\n",
       "</style>\n",
       "<table border=\"1\" class=\"dataframe\">\n",
       "  <thead>\n",
       "    <tr style=\"text-align: right;\">\n",
       "      <th></th>\n",
       "      <th>year</th>\n",
       "      <th>counts</th>\n",
       "    </tr>\n",
       "  </thead>\n",
       "  <tbody>\n",
       "    <tr>\n",
       "      <th>0</th>\n",
       "      <td>1979</td>\n",
       "      <td>8</td>\n",
       "    </tr>\n",
       "    <tr>\n",
       "      <th>1</th>\n",
       "      <td>1980</td>\n",
       "      <td>2</td>\n",
       "    </tr>\n",
       "    <tr>\n",
       "      <th>2</th>\n",
       "      <td>1981</td>\n",
       "      <td>8</td>\n",
       "    </tr>\n",
       "    <tr>\n",
       "      <th>3</th>\n",
       "      <td>1982</td>\n",
       "      <td>2</td>\n",
       "    </tr>\n",
       "    <tr>\n",
       "      <th>4</th>\n",
       "      <td>1983</td>\n",
       "      <td>3</td>\n",
       "    </tr>\n",
       "    <tr>\n",
       "      <th>5</th>\n",
       "      <td>1984</td>\n",
       "      <td>7</td>\n",
       "    </tr>\n",
       "    <tr>\n",
       "      <th>6</th>\n",
       "      <td>1985</td>\n",
       "      <td>4</td>\n",
       "    </tr>\n",
       "    <tr>\n",
       "      <th>8</th>\n",
       "      <td>1992</td>\n",
       "      <td>8</td>\n",
       "    </tr>\n",
       "    <tr>\n",
       "      <th>9</th>\n",
       "      <td>1996</td>\n",
       "      <td>4</td>\n",
       "    </tr>\n",
       "    <tr>\n",
       "      <th>11</th>\n",
       "      <td>1999</td>\n",
       "      <td>8</td>\n",
       "    </tr>\n",
       "    <tr>\n",
       "      <th>14</th>\n",
       "      <td>2005</td>\n",
       "      <td>2</td>\n",
       "    </tr>\n",
       "    <tr>\n",
       "      <th>16</th>\n",
       "      <td>2015</td>\n",
       "      <td>3</td>\n",
       "    </tr>\n",
       "  </tbody>\n",
       "</table>\n",
       "</div>"
      ],
      "text/plain": [
       "    year  counts\n",
       "0   1979       8\n",
       "1   1980       2\n",
       "2   1981       8\n",
       "3   1982       2\n",
       "4   1983       3\n",
       "5   1984       7\n",
       "6   1985       4\n",
       "8   1992       8\n",
       "9   1996       4\n",
       "11  1999       8\n",
       "14  2005       2\n",
       "16  2015       3"
      ]
     },
     "execution_count": 379,
     "metadata": {},
     "output_type": "execute_result"
    }
   ],
   "source": [
    "df = cast[cast.name.str.contains('Frank Oz', case = False)].groupby('year').size().reset_index(name='counts')\n",
    "#groupby('character').size().reset_index(name='counts')\n",
    "df_new = df[df['counts'] >= 2]\n",
    "df_new"
   ]
  },
  {
   "cell_type": "markdown",
   "metadata": {},
   "source": [
    "# Section III - Advanced Merging, Querying and Visualizations"
   ]
  },
  {
   "cell_type": "markdown",
   "metadata": {},
   "source": [
    "## Make a bar plot with the following conditions\n",
    "- Frequency of the number of movies with \"Christmas\" in their title \n",
    "- Movies should be such that they are released in the USA.\n",
    "- Show the frequency plot by month"
   ]
  },
  {
   "cell_type": "code",
   "execution_count": 322,
   "metadata": {
    "gradient": {}
   },
   "outputs": [
    {
     "data": {
      "text/plain": [
       "<AxesSubplot:>"
      ]
     },
     "execution_count": 322,
     "metadata": {},
     "output_type": "execute_result"
    },
    {
     "data": {
      "image/png": "[encoded data removed]",
      "text/plain": [
       "<Figure size 432x288 with 1 Axes>"
      ]
     },
     "metadata": {},
     "output_type": "display_data"
    }
   ],
   "source": [
    "christmas = release_dates[(release_dates.title.str.contains('Christmas')) & (release_dates.country == 'USA')]\n",
    "christmas.date.dt.month.value_counts().sort_index().plot(kind='bar')"
   ]
  },
  {
   "cell_type": "markdown",
   "metadata": {},
   "source": [
    "### Section III - Q1: Make a bar plot with the following conditions\n",
    "- Frequency of the number of movies with \"Summer\" in their title \n",
    "- Movies should be such that they are released in the USA.\n",
    "- Show the frequency plot by month"
   ]
  },
  {
   "cell_type": "code",
   "execution_count": 380,
   "metadata": {
    "gradient": {}
   },
   "outputs": [
    {
     "data": {
      "text/plain": [
       "<AxesSubplot:>"
      ]
     },
     "execution_count": 380,
     "metadata": {},
     "output_type": "execute_result"
    },
    {
     "data": {
      "image/png": "[encoded data removed]",
      "text/plain": [
       "<Figure size 432x288 with 1 Axes>"
      ]
     },
     "metadata": {},
     "output_type": "display_data"
    }
   ],
   "source": [
    "summer = release_dates[(release_dates.title.str.contains('Summer')) & (release_dates.country == 'USA')]\n",
    "summer.date.dt.month.value_counts().sort_index().plot(kind='bar')"
   ]
  },
  {
   "cell_type": "markdown",
   "metadata": {},
   "source": [
    "### Section III - Q2: Make a bar plot with the following conditions\n",
    "- Frequency of the number of movies with \"Action\" in their title \n",
    "- Movies should be such that they are released in the USA.\n",
    "- Show the frequency plot by week"
   ]
  },
  {
   "cell_type": "code",
   "execution_count": 383,
   "metadata": {
    "gradient": {}
   },
   "outputs": [
    {
     "data": {
      "text/plain": [
       "<AxesSubplot:>"
      ]
     },
     "execution_count": 383,
     "metadata": {},
     "output_type": "execute_result"
    },
    {
     "data": {
      "image/png": "[encoded data removed]",
      "text/plain": [
       "<Figure size 432x288 with 1 Axes>"
      ]
     },
     "metadata": {},
     "output_type": "display_data"
    }
   ],
   "source": [
    "action = release_dates[(release_dates.title.str.contains('Action')) & (release_dates.country == 'USA')]\n",
    "action.date.dt.isocalendar().week.value_counts().sort_index().plot(kind='bar')"
   ]
  },
  {
   "cell_type": "markdown",
   "metadata": {},
   "source": [
    "### Section III - Q3: Show all the movies in which Keanu Reeves has played the lead role along with their   release date in the USA sorted by the date of release\n",
    "- Hint: You might need to join or merge two datasets!"
   ]
  },
  {
   "cell_type": "code",
   "execution_count": 408,
   "metadata": {
    "gradient": {}
   },
   "outputs": [
    {
     "data": {
      "text/html": [
       "<div>\n",
       "<style scoped>\n",
       "    .dataframe tbody tr th:only-of-type {\n",
       "        vertical-align: middle;\n",
       "    }\n",
       "\n",
       "    .dataframe tbody tr th {\n",
       "        vertical-align: top;\n",
       "    }\n",
       "\n",
       "    .dataframe thead th {\n",
       "        text-align: right;\n",
       "    }\n",
       "</style>\n",
       "<table border=\"1\" class=\"dataframe\">\n",
       "  <thead>\n",
       "    <tr style=\"text-align: right;\">\n",
       "      <th></th>\n",
       "      <th>title</th>\n",
       "      <th>character</th>\n",
       "      <th>date</th>\n",
       "    </tr>\n",
       "  </thead>\n",
       "  <tbody>\n",
       "    <tr>\n",
       "      <th>9</th>\n",
       "      <td>John Wick: Chapter 2</td>\n",
       "      <td>John Wick</td>\n",
       "      <td>2017-02-10</td>\n",
       "    </tr>\n",
       "    <tr>\n",
       "      <th>11</th>\n",
       "      <td>Knock Knock</td>\n",
       "      <td>Evan</td>\n",
       "      <td>2015-10-09</td>\n",
       "    </tr>\n",
       "    <tr>\n",
       "      <th>8</th>\n",
       "      <td>John Wick</td>\n",
       "      <td>John Wick</td>\n",
       "      <td>2014-10-24</td>\n",
       "    </tr>\n",
       "    <tr>\n",
       "      <th>0</th>\n",
       "      <td>47 Ronin</td>\n",
       "      <td>Kai</td>\n",
       "      <td>2013-12-25</td>\n",
       "    </tr>\n",
       "    <tr>\n",
       "      <th>16</th>\n",
       "      <td>The Day the Earth Stood Still</td>\n",
       "      <td>Klaatu</td>\n",
       "      <td>2008-12-12</td>\n",
       "    </tr>\n",
       "    <tr>\n",
       "      <th>14</th>\n",
       "      <td>Street Kings</td>\n",
       "      <td>Detective Tom Ludlow</td>\n",
       "      <td>2008-04-11</td>\n",
       "    </tr>\n",
       "    <tr>\n",
       "      <th>18</th>\n",
       "      <td>The Lake House</td>\n",
       "      <td>Alex Wyler</td>\n",
       "      <td>2006-06-16</td>\n",
       "    </tr>\n",
       "    <tr>\n",
       "      <th>5</th>\n",
       "      <td>Constantine</td>\n",
       "      <td>John Constantine</td>\n",
       "      <td>2005-02-18</td>\n",
       "    </tr>\n",
       "    <tr>\n",
       "      <th>7</th>\n",
       "      <td>Hard Ball</td>\n",
       "      <td>Conor O'Neill</td>\n",
       "      <td>2001-09-14</td>\n",
       "    </tr>\n",
       "    <tr>\n",
       "      <th>15</th>\n",
       "      <td>Sweet November</td>\n",
       "      <td>Nelson Moss</td>\n",
       "      <td>2001-02-16</td>\n",
       "    </tr>\n",
       "    <tr>\n",
       "      <th>21</th>\n",
       "      <td>The Replacements</td>\n",
       "      <td>Shane Falco</td>\n",
       "      <td>2000-08-11</td>\n",
       "    </tr>\n",
       "    <tr>\n",
       "      <th>19</th>\n",
       "      <td>The Matrix</td>\n",
       "      <td>Neo</td>\n",
       "      <td>1999-03-31</td>\n",
       "    </tr>\n",
       "    <tr>\n",
       "      <th>17</th>\n",
       "      <td>The Devil's Advocate</td>\n",
       "      <td>Kevin Lomax</td>\n",
       "      <td>1997-10-17</td>\n",
       "    </tr>\n",
       "    <tr>\n",
       "      <th>6</th>\n",
       "      <td>Feeling Minnesota</td>\n",
       "      <td>Jjaks Clayton</td>\n",
       "      <td>1996-09-13</td>\n",
       "    </tr>\n",
       "    <tr>\n",
       "      <th>4</th>\n",
       "      <td>Chain Reaction</td>\n",
       "      <td>Eddie Kasalivich</td>\n",
       "      <td>1996-08-02</td>\n",
       "    </tr>\n",
       "    <tr>\n",
       "      <th>1</th>\n",
       "      <td>A Walk in the Clouds</td>\n",
       "      <td>Paul Sutton</td>\n",
       "      <td>1995-08-11</td>\n",
       "    </tr>\n",
       "    <tr>\n",
       "      <th>10</th>\n",
       "      <td>Johnny Mnemonic</td>\n",
       "      <td>Johnny Mnemonic</td>\n",
       "      <td>1995-05-26</td>\n",
       "    </tr>\n",
       "    <tr>\n",
       "      <th>13</th>\n",
       "      <td>Speed</td>\n",
       "      <td>Jack Traven</td>\n",
       "      <td>1994-06-10</td>\n",
       "    </tr>\n",
       "    <tr>\n",
       "      <th>12</th>\n",
       "      <td>Little Buddha</td>\n",
       "      <td>Siddhartha</td>\n",
       "      <td>1994-05-25</td>\n",
       "    </tr>\n",
       "    <tr>\n",
       "      <th>2</th>\n",
       "      <td>Bill &amp; Ted's Bogus Journey</td>\n",
       "      <td>Ted</td>\n",
       "      <td>1991-07-19</td>\n",
       "    </tr>\n",
       "    <tr>\n",
       "      <th>3</th>\n",
       "      <td>Bill &amp; Ted's Excellent Adventure</td>\n",
       "      <td>Ted</td>\n",
       "      <td>1989-02-17</td>\n",
       "    </tr>\n",
       "    <tr>\n",
       "      <th>20</th>\n",
       "      <td>The Night Before</td>\n",
       "      <td>Winston Connelly</td>\n",
       "      <td>1988-04-15</td>\n",
       "    </tr>\n",
       "  </tbody>\n",
       "</table>\n",
       "</div>"
      ],
      "text/plain": [
       "                               title             character       date\n",
       "9               John Wick: Chapter 2             John Wick 2017-02-10\n",
       "11                       Knock Knock                  Evan 2015-10-09\n",
       "8                          John Wick             John Wick 2014-10-24\n",
       "0                           47 Ronin                   Kai 2013-12-25\n",
       "16     The Day the Earth Stood Still                Klaatu 2008-12-12\n",
       "14                      Street Kings  Detective Tom Ludlow 2008-04-11\n",
       "18                    The Lake House            Alex Wyler 2006-06-16\n",
       "5                        Constantine      John Constantine 2005-02-18\n",
       "7                          Hard Ball         Conor O'Neill 2001-09-14\n",
       "15                    Sweet November           Nelson Moss 2001-02-16\n",
       "21                  The Replacements           Shane Falco 2000-08-11\n",
       "19                        The Matrix                   Neo 1999-03-31\n",
       "17              The Devil's Advocate           Kevin Lomax 1997-10-17\n",
       "6                  Feeling Minnesota         Jjaks Clayton 1996-09-13\n",
       "4                     Chain Reaction      Eddie Kasalivich 1996-08-02\n",
       "1               A Walk in the Clouds           Paul Sutton 1995-08-11\n",
       "10                   Johnny Mnemonic       Johnny Mnemonic 1995-05-26\n",
       "13                             Speed           Jack Traven 1994-06-10\n",
       "12                     Little Buddha            Siddhartha 1994-05-25\n",
       "2         Bill & Ted's Bogus Journey                   Ted 1991-07-19\n",
       "3   Bill & Ted's Excellent Adventure                   Ted 1989-02-17\n",
       "20                  The Night Before      Winston Connelly 1988-04-15"
      ]
     },
     "execution_count": 408,
     "metadata": {},
     "output_type": "execute_result"
    }
   ],
   "source": [
    "#release_dates\n",
    "keanu = cast[(cast.name =='Keanu Reeves') & (cast.n.notnull()) & (cast.n == 1)]\n",
    "usa = release_dates[(release_dates.country == 'USA')]\n",
    "keanu_release_usa = pd.merge(keanu, usa, on = ['title', 'year'])\n",
    "keanu_release_usa[['title', 'character', 'date']].sort_values(by = 'date', ascending = False)"
   ]
  },
  {
   "cell_type": "markdown",
   "metadata": {},
   "source": [
    "### Section III - Q4: Make a bar plot showing the months in which movies with Keanu Reeves tend to be released in the USA?"
   ]
  },
  {
   "cell_type": "code",
   "execution_count": 409,
   "metadata": {
    "gradient": {}
   },
   "outputs": [
    {
     "data": {
      "text/plain": [
       "<AxesSubplot:>"
      ]
     },
     "execution_count": 409,
     "metadata": {},
     "output_type": "execute_result"
    },
    {
     "data": {
      "image/png": "[encoded data removed]",
      "text/plain": [
       "<Figure size 432x288 with 1 Axes>"
      ]
     },
     "metadata": {},
     "output_type": "display_data"
    }
   ],
   "source": [
    "keanu = cast[(cast.name =='Keanu Reeves') & (cast.n.notnull()) & (cast.n == 1)]\n",
    "usa = release_dates[(release_dates.country == 'USA')]\n",
    "keanu_release_usa = pd.merge(keanu, usa, on = ['title', 'year'])\n",
    "keanu_release_usa[['title', 'character', 'date']].sort_values(by = 'date', ascending = False)\n",
    "keanu_release_usa.date.dt.month.value_counts().sort_index().plot(kind='bar')"
   ]
  },
  {
   "cell_type": "markdown",
   "metadata": {},
   "source": [
    "### Section III - Q5: Make a bar plot showing the years in which movies with Ian McKellen tend to be released in the USA?"
   ]
  },
  {
   "cell_type": "code",
   "execution_count": 411,
   "metadata": {
    "gradient": {}
   },
   "outputs": [
    {
     "data": {
      "text/plain": [
       "<AxesSubplot:>"
      ]
     },
     "execution_count": 411,
     "metadata": {},
     "output_type": "execute_result"
    },
    {
     "data": {
      "image/png": "[encoded data removed]",
      "text/plain": [
       "<Figure size 432x288 with 1 Axes>"
      ]
     },
     "metadata": {},
     "output_type": "display_data"
    }
   ],
   "source": [
    "ianmckellen = cast[(cast.name =='Ian McKellen') & (cast.n.notnull()) & (cast.n == 1)]\n",
    "usa = release_dates[(release_dates.country == 'USA')]\n",
    "ianmckellen_release_usa = pd.merge(ianmckellen, usa, on = ['title', 'year'])\n",
    "ianmckellen_release_usa[['title', 'character', 'date']].sort_values(by = 'date', ascending = False)\n",
    "ianmckellen_release_usa.date.dt.year.value_counts().sort_index().plot(kind='bar')"
   ]
  },
  {
   "cell_type": "code",
   "execution_count": null,
   "metadata": {},
   "outputs": [],
   "source": []
  }
 ],
 "metadata": {
  "kernelspec": {
   "display_name": "Python 3",
   "language": "python",
   "name": "python3"
  },
  "language_info": {
   "codemirror_mode": {
    "name": "ipython",
    "version": 3
   },
   "file_extension": ".py",
   "mimetype": "text/x-python",
   "name": "python",
   "nbconvert_exporter": "python",
   "pygments_lexer": "ipython3",
   "version": "3.8.8"
  }
 },
 "nbformat": 4,
 "nbformat_minor": 2
}
